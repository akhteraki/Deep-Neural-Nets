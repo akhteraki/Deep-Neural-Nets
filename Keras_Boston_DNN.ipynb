{
  "nbformat": 4,
  "nbformat_minor": 0,
  "metadata": {
    "colab": {
      "name": "Keras_Boston_DNN.ipynb",
      "provenance": []
    },
    "kernelspec": {
      "name": "python3",
      "display_name": "Python 3"
    }
  },
  "cells": [
    {
      "cell_type": "code",
      "metadata": {
        "id": "9XkTrw5b6MSF"
      },
      "source": [
        "# Import required libraries\n",
        "import pandas as pd\n",
        "import matplotlib.pyplot as plt\n",
        "\n",
        "# Import necessary modules\n",
        "from sklearn.model_selection import train_test_split\n",
        "from sklearn.metrics import mean_squared_error\n",
        "\n",
        "# Keras specific\n",
        "from keras.models import Sequential\n",
        "from keras.layers import Dense\n",
        "from sklearn import datasets\n",
        "import numpy as np\n"
      ],
      "execution_count": null,
      "outputs": []
    },
    {
      "cell_type": "code",
      "metadata": {
        "colab": {
          "base_uri": "https://localhost:8080/",
          "height": 204
        },
        "id": "K2xp3C4o9uvz",
        "outputId": "a6f618b2-9105-4ec6-8943-4ff95e115e09"
      },
      "source": [
        "boston_data = datasets.load_boston()\n",
        "df = pd.DataFrame(boston_data.data,columns=boston_data.feature_names)\n",
        "df['target'] = pd.Series(boston_data.target)\n",
        "df.head()"
      ],
      "execution_count": null,
      "outputs": [
        {
          "output_type": "execute_result",
          "data": {
            "text/html": [
              "<div>\n",
              "<style scoped>\n",
              "    .dataframe tbody tr th:only-of-type {\n",
              "        vertical-align: middle;\n",
              "    }\n",
              "\n",
              "    .dataframe tbody tr th {\n",
              "        vertical-align: top;\n",
              "    }\n",
              "\n",
              "    .dataframe thead th {\n",
              "        text-align: right;\n",
              "    }\n",
              "</style>\n",
              "<table border=\"1\" class=\"dataframe\">\n",
              "  <thead>\n",
              "    <tr style=\"text-align: right;\">\n",
              "      <th></th>\n",
              "      <th>CRIM</th>\n",
              "      <th>ZN</th>\n",
              "      <th>INDUS</th>\n",
              "      <th>CHAS</th>\n",
              "      <th>NOX</th>\n",
              "      <th>RM</th>\n",
              "      <th>AGE</th>\n",
              "      <th>DIS</th>\n",
              "      <th>RAD</th>\n",
              "      <th>TAX</th>\n",
              "      <th>PTRATIO</th>\n",
              "      <th>B</th>\n",
              "      <th>LSTAT</th>\n",
              "      <th>target</th>\n",
              "    </tr>\n",
              "  </thead>\n",
              "  <tbody>\n",
              "    <tr>\n",
              "      <th>0</th>\n",
              "      <td>0.00632</td>\n",
              "      <td>18.0</td>\n",
              "      <td>2.31</td>\n",
              "      <td>0.0</td>\n",
              "      <td>0.538</td>\n",
              "      <td>6.575</td>\n",
              "      <td>65.2</td>\n",
              "      <td>4.0900</td>\n",
              "      <td>1.0</td>\n",
              "      <td>296.0</td>\n",
              "      <td>15.3</td>\n",
              "      <td>396.90</td>\n",
              "      <td>4.98</td>\n",
              "      <td>24.0</td>\n",
              "    </tr>\n",
              "    <tr>\n",
              "      <th>1</th>\n",
              "      <td>0.02731</td>\n",
              "      <td>0.0</td>\n",
              "      <td>7.07</td>\n",
              "      <td>0.0</td>\n",
              "      <td>0.469</td>\n",
              "      <td>6.421</td>\n",
              "      <td>78.9</td>\n",
              "      <td>4.9671</td>\n",
              "      <td>2.0</td>\n",
              "      <td>242.0</td>\n",
              "      <td>17.8</td>\n",
              "      <td>396.90</td>\n",
              "      <td>9.14</td>\n",
              "      <td>21.6</td>\n",
              "    </tr>\n",
              "    <tr>\n",
              "      <th>2</th>\n",
              "      <td>0.02729</td>\n",
              "      <td>0.0</td>\n",
              "      <td>7.07</td>\n",
              "      <td>0.0</td>\n",
              "      <td>0.469</td>\n",
              "      <td>7.185</td>\n",
              "      <td>61.1</td>\n",
              "      <td>4.9671</td>\n",
              "      <td>2.0</td>\n",
              "      <td>242.0</td>\n",
              "      <td>17.8</td>\n",
              "      <td>392.83</td>\n",
              "      <td>4.03</td>\n",
              "      <td>34.7</td>\n",
              "    </tr>\n",
              "    <tr>\n",
              "      <th>3</th>\n",
              "      <td>0.03237</td>\n",
              "      <td>0.0</td>\n",
              "      <td>2.18</td>\n",
              "      <td>0.0</td>\n",
              "      <td>0.458</td>\n",
              "      <td>6.998</td>\n",
              "      <td>45.8</td>\n",
              "      <td>6.0622</td>\n",
              "      <td>3.0</td>\n",
              "      <td>222.0</td>\n",
              "      <td>18.7</td>\n",
              "      <td>394.63</td>\n",
              "      <td>2.94</td>\n",
              "      <td>33.4</td>\n",
              "    </tr>\n",
              "    <tr>\n",
              "      <th>4</th>\n",
              "      <td>0.06905</td>\n",
              "      <td>0.0</td>\n",
              "      <td>2.18</td>\n",
              "      <td>0.0</td>\n",
              "      <td>0.458</td>\n",
              "      <td>7.147</td>\n",
              "      <td>54.2</td>\n",
              "      <td>6.0622</td>\n",
              "      <td>3.0</td>\n",
              "      <td>222.0</td>\n",
              "      <td>18.7</td>\n",
              "      <td>396.90</td>\n",
              "      <td>5.33</td>\n",
              "      <td>36.2</td>\n",
              "    </tr>\n",
              "  </tbody>\n",
              "</table>\n",
              "</div>"
            ],
            "text/plain": [
              "      CRIM    ZN  INDUS  CHAS    NOX  ...    TAX  PTRATIO       B  LSTAT  target\n",
              "0  0.00632  18.0   2.31   0.0  0.538  ...  296.0     15.3  396.90   4.98    24.0\n",
              "1  0.02731   0.0   7.07   0.0  0.469  ...  242.0     17.8  396.90   9.14    21.6\n",
              "2  0.02729   0.0   7.07   0.0  0.469  ...  242.0     17.8  392.83   4.03    34.7\n",
              "3  0.03237   0.0   2.18   0.0  0.458  ...  222.0     18.7  394.63   2.94    33.4\n",
              "4  0.06905   0.0   2.18   0.0  0.458  ...  222.0     18.7  396.90   5.33    36.2\n",
              "\n",
              "[5 rows x 14 columns]"
            ]
          },
          "metadata": {
            "tags": []
          },
          "execution_count": 2
        }
      ]
    },
    {
      "cell_type": "code",
      "metadata": {
        "colab": {
          "base_uri": "https://localhost:8080/"
        },
        "id": "WFtc1JqK9xVy",
        "outputId": "d77e33d2-5c2b-4526-d803-449476837673"
      },
      "source": [
        "print(df.shape)"
      ],
      "execution_count": null,
      "outputs": [
        {
          "output_type": "stream",
          "text": [
            "(506, 14)\n"
          ],
          "name": "stdout"
        }
      ]
    },
    {
      "cell_type": "code",
      "metadata": {
        "id": "A5zwLngX9ziX"
      },
      "source": [
        "target_column = ['target'] \n",
        "predictors = list(set(list(df.columns))-set(target_column))"
      ],
      "execution_count": null,
      "outputs": []
    },
    {
      "cell_type": "code",
      "metadata": {
        "id": "12Gtnfq393lj"
      },
      "source": [
        "X = df[predictors].values\n",
        "y = df[target_column].values"
      ],
      "execution_count": null,
      "outputs": []
    },
    {
      "cell_type": "code",
      "metadata": {
        "colab": {
          "base_uri": "https://localhost:8080/"
        },
        "id": "aku_-kFV96Za",
        "outputId": "2aed5096-dac7-4585-e069-67f9a3ce48e7"
      },
      "source": [
        "X_train, X_test, y_train, y_test = train_test_split(X, y, test_size=0.30, random_state=40)\n",
        "print(X_train.shape); print(X_test.shape)"
      ],
      "execution_count": null,
      "outputs": [
        {
          "output_type": "stream",
          "text": [
            "(354, 13)\n",
            "(152, 13)\n"
          ],
          "name": "stdout"
        }
      ]
    },
    {
      "cell_type": "code",
      "metadata": {
        "id": "FiyU7dOp98aK"
      },
      "source": [
        "# Define model\n",
        "model = Sequential()\n",
        "model.add(Dense(500, input_dim=13, activation= \"relu\"))\n",
        "model.add(Dense(100, activation= \"relu\"))\n",
        "model.add(Dense(50, activation= \"relu\"))\n",
        "model.add(Dense(1))"
      ],
      "execution_count": null,
      "outputs": []
    },
    {
      "cell_type": "code",
      "metadata": {
        "colab": {
          "base_uri": "https://localhost:8080/"
        },
        "id": "uRoTQhhj9_kA",
        "outputId": "5a0b9dbd-d71f-4be7-ad42-a418284bcd01"
      },
      "source": [
        "model.summary() "
      ],
      "execution_count": null,
      "outputs": [
        {
          "output_type": "stream",
          "text": [
            "Model: \"sequential\"\n",
            "_________________________________________________________________\n",
            "Layer (type)                 Output Shape              Param #   \n",
            "=================================================================\n",
            "dense (Dense)                (None, 500)               7000      \n",
            "_________________________________________________________________\n",
            "dense_1 (Dense)              (None, 100)               50100     \n",
            "_________________________________________________________________\n",
            "dense_2 (Dense)              (None, 50)                5050      \n",
            "_________________________________________________________________\n",
            "dense_3 (Dense)              (None, 1)                 51        \n",
            "=================================================================\n",
            "Total params: 62,201\n",
            "Trainable params: 62,201\n",
            "Non-trainable params: 0\n",
            "_________________________________________________________________\n"
          ],
          "name": "stdout"
        }
      ]
    },
    {
      "cell_type": "code",
      "metadata": {
        "id": "h9HAk5B8-CF6"
      },
      "source": [
        "model.compile(loss= \"mean_squared_error\" , optimizer=\"adam\", metrics=[\"mean_squared_error\"])\n",
        "#history  = model.fit(X_train, y_train, epochs=100)"
      ],
      "execution_count": null,
      "outputs": []
    },
    {
      "cell_type": "code",
      "metadata": {
        "colab": {
          "base_uri": "https://localhost:8080/"
        },
        "id": "Vm4iJfMZc0jD",
        "outputId": "84c5ef6b-b9ec-4ba1-c535-2e4e0402ae19"
      },
      "source": [
        "history  = model.fit(X_train, y_train, epochs=100)"
      ],
      "execution_count": null,
      "outputs": [
        {
          "output_type": "stream",
          "text": [
            "Epoch 1/100\n",
            "12/12 [==============================] - 1s 2ms/step - loss: 358.9197 - mean_squared_error: 358.9197\n",
            "Epoch 2/100\n",
            "12/12 [==============================] - 0s 2ms/step - loss: 66.1796 - mean_squared_error: 66.1796\n",
            "Epoch 3/100\n",
            "12/12 [==============================] - 0s 2ms/step - loss: 52.3308 - mean_squared_error: 52.3308\n",
            "Epoch 4/100\n",
            "12/12 [==============================] - 0s 2ms/step - loss: 57.6534 - mean_squared_error: 57.6534\n",
            "Epoch 5/100\n",
            "12/12 [==============================] - 0s 2ms/step - loss: 75.8794 - mean_squared_error: 75.8794\n",
            "Epoch 6/100\n",
            "12/12 [==============================] - 0s 2ms/step - loss: 55.6182 - mean_squared_error: 55.6182\n",
            "Epoch 7/100\n",
            "12/12 [==============================] - 0s 2ms/step - loss: 45.6892 - mean_squared_error: 45.6892\n",
            "Epoch 8/100\n",
            "12/12 [==============================] - 0s 2ms/step - loss: 45.7597 - mean_squared_error: 45.7597\n",
            "Epoch 9/100\n",
            "12/12 [==============================] - 0s 2ms/step - loss: 46.1178 - mean_squared_error: 46.1178\n",
            "Epoch 10/100\n",
            "12/12 [==============================] - 0s 2ms/step - loss: 78.4135 - mean_squared_error: 78.4135\n",
            "Epoch 11/100\n",
            "12/12 [==============================] - 0s 2ms/step - loss: 39.4965 - mean_squared_error: 39.4965\n",
            "Epoch 12/100\n",
            "12/12 [==============================] - 0s 2ms/step - loss: 42.5958 - mean_squared_error: 42.5958\n",
            "Epoch 13/100\n",
            "12/12 [==============================] - 0s 2ms/step - loss: 35.8696 - mean_squared_error: 35.8696\n",
            "Epoch 14/100\n",
            "12/12 [==============================] - 0s 2ms/step - loss: 42.9288 - mean_squared_error: 42.9288\n",
            "Epoch 15/100\n",
            "12/12 [==============================] - 0s 2ms/step - loss: 61.2306 - mean_squared_error: 61.2306\n",
            "Epoch 16/100\n",
            "12/12 [==============================] - 0s 2ms/step - loss: 43.2126 - mean_squared_error: 43.2126\n",
            "Epoch 17/100\n",
            "12/12 [==============================] - 0s 2ms/step - loss: 46.5662 - mean_squared_error: 46.5662\n",
            "Epoch 18/100\n",
            "12/12 [==============================] - 0s 2ms/step - loss: 41.4799 - mean_squared_error: 41.4799\n",
            "Epoch 19/100\n",
            "12/12 [==============================] - 0s 2ms/step - loss: 38.8449 - mean_squared_error: 38.8449\n",
            "Epoch 20/100\n",
            "12/12 [==============================] - 0s 2ms/step - loss: 35.1799 - mean_squared_error: 35.1799\n",
            "Epoch 21/100\n",
            "12/12 [==============================] - 0s 2ms/step - loss: 42.4754 - mean_squared_error: 42.4754\n",
            "Epoch 22/100\n",
            "12/12 [==============================] - 0s 2ms/step - loss: 34.8465 - mean_squared_error: 34.8465\n",
            "Epoch 23/100\n",
            "12/12 [==============================] - 0s 2ms/step - loss: 32.2509 - mean_squared_error: 32.2509\n",
            "Epoch 24/100\n",
            "12/12 [==============================] - 0s 2ms/step - loss: 40.0056 - mean_squared_error: 40.0056\n",
            "Epoch 25/100\n",
            "12/12 [==============================] - 0s 2ms/step - loss: 56.3629 - mean_squared_error: 56.3629\n",
            "Epoch 26/100\n",
            "12/12 [==============================] - 0s 2ms/step - loss: 30.9559 - mean_squared_error: 30.9559\n",
            "Epoch 27/100\n",
            "12/12 [==============================] - 0s 2ms/step - loss: 33.7357 - mean_squared_error: 33.7357\n",
            "Epoch 28/100\n",
            "12/12 [==============================] - 0s 2ms/step - loss: 34.9562 - mean_squared_error: 34.9562\n",
            "Epoch 29/100\n",
            "12/12 [==============================] - 0s 2ms/step - loss: 31.5668 - mean_squared_error: 31.5668\n",
            "Epoch 30/100\n",
            "12/12 [==============================] - 0s 2ms/step - loss: 36.3483 - mean_squared_error: 36.3483\n",
            "Epoch 31/100\n",
            "12/12 [==============================] - 0s 2ms/step - loss: 37.5994 - mean_squared_error: 37.5994\n",
            "Epoch 32/100\n",
            "12/12 [==============================] - 0s 2ms/step - loss: 29.2085 - mean_squared_error: 29.2085\n",
            "Epoch 33/100\n",
            "12/12 [==============================] - 0s 2ms/step - loss: 32.0864 - mean_squared_error: 32.0864\n",
            "Epoch 34/100\n",
            "12/12 [==============================] - 0s 2ms/step - loss: 26.0406 - mean_squared_error: 26.0406\n",
            "Epoch 35/100\n",
            "12/12 [==============================] - 0s 2ms/step - loss: 34.5803 - mean_squared_error: 34.5803\n",
            "Epoch 36/100\n",
            "12/12 [==============================] - 0s 2ms/step - loss: 30.7437 - mean_squared_error: 30.7437\n",
            "Epoch 37/100\n",
            "12/12 [==============================] - 0s 3ms/step - loss: 31.7444 - mean_squared_error: 31.7444\n",
            "Epoch 38/100\n",
            "12/12 [==============================] - 0s 2ms/step - loss: 34.3016 - mean_squared_error: 34.3016\n",
            "Epoch 39/100\n",
            "12/12 [==============================] - 0s 2ms/step - loss: 23.0619 - mean_squared_error: 23.0619\n",
            "Epoch 40/100\n",
            "12/12 [==============================] - 0s 2ms/step - loss: 26.5719 - mean_squared_error: 26.5719\n",
            "Epoch 41/100\n",
            "12/12 [==============================] - 0s 2ms/step - loss: 27.3175 - mean_squared_error: 27.3175\n",
            "Epoch 42/100\n",
            "12/12 [==============================] - 0s 2ms/step - loss: 92.6649 - mean_squared_error: 92.6649\n",
            "Epoch 43/100\n",
            "12/12 [==============================] - 0s 2ms/step - loss: 34.3649 - mean_squared_error: 34.3649\n",
            "Epoch 44/100\n",
            "12/12 [==============================] - 0s 3ms/step - loss: 34.0866 - mean_squared_error: 34.0866\n",
            "Epoch 45/100\n",
            "12/12 [==============================] - 0s 3ms/step - loss: 33.9267 - mean_squared_error: 33.9267\n",
            "Epoch 46/100\n",
            "12/12 [==============================] - 0s 2ms/step - loss: 27.2745 - mean_squared_error: 27.2745\n",
            "Epoch 47/100\n",
            "12/12 [==============================] - 0s 2ms/step - loss: 33.9002 - mean_squared_error: 33.9002\n",
            "Epoch 48/100\n",
            "12/12 [==============================] - 0s 2ms/step - loss: 30.5750 - mean_squared_error: 30.5750\n",
            "Epoch 49/100\n",
            "12/12 [==============================] - 0s 2ms/step - loss: 26.8922 - mean_squared_error: 26.8922\n",
            "Epoch 50/100\n",
            "12/12 [==============================] - 0s 2ms/step - loss: 28.6786 - mean_squared_error: 28.6786\n",
            "Epoch 51/100\n",
            "12/12 [==============================] - 0s 2ms/step - loss: 25.4354 - mean_squared_error: 25.4354\n",
            "Epoch 52/100\n",
            "12/12 [==============================] - 0s 2ms/step - loss: 22.9315 - mean_squared_error: 22.9315\n",
            "Epoch 53/100\n",
            "12/12 [==============================] - 0s 2ms/step - loss: 25.6924 - mean_squared_error: 25.6924\n",
            "Epoch 54/100\n",
            "12/12 [==============================] - 0s 2ms/step - loss: 17.3468 - mean_squared_error: 17.3468\n",
            "Epoch 55/100\n",
            "12/12 [==============================] - 0s 2ms/step - loss: 34.3494 - mean_squared_error: 34.3494\n",
            "Epoch 56/100\n",
            "12/12 [==============================] - 0s 2ms/step - loss: 22.8733 - mean_squared_error: 22.8733\n",
            "Epoch 57/100\n",
            "12/12 [==============================] - 0s 2ms/step - loss: 21.2206 - mean_squared_error: 21.2206\n",
            "Epoch 58/100\n",
            "12/12 [==============================] - 0s 3ms/step - loss: 40.3645 - mean_squared_error: 40.3645\n",
            "Epoch 59/100\n",
            "12/12 [==============================] - 0s 2ms/step - loss: 19.5021 - mean_squared_error: 19.5021\n",
            "Epoch 60/100\n",
            "12/12 [==============================] - 0s 2ms/step - loss: 27.2301 - mean_squared_error: 27.2301\n",
            "Epoch 61/100\n",
            "12/12 [==============================] - 0s 3ms/step - loss: 25.9423 - mean_squared_error: 25.9423\n",
            "Epoch 62/100\n",
            "12/12 [==============================] - 0s 3ms/step - loss: 29.5981 - mean_squared_error: 29.5981\n",
            "Epoch 63/100\n",
            "12/12 [==============================] - 0s 2ms/step - loss: 23.1498 - mean_squared_error: 23.1498\n",
            "Epoch 64/100\n",
            "12/12 [==============================] - 0s 2ms/step - loss: 16.7099 - mean_squared_error: 16.7099\n",
            "Epoch 65/100\n",
            "12/12 [==============================] - 0s 2ms/step - loss: 36.2038 - mean_squared_error: 36.2038\n",
            "Epoch 66/100\n",
            "12/12 [==============================] - 0s 4ms/step - loss: 24.4136 - mean_squared_error: 24.4136\n",
            "Epoch 67/100\n",
            "12/12 [==============================] - 0s 2ms/step - loss: 20.6136 - mean_squared_error: 20.6136\n",
            "Epoch 68/100\n",
            "12/12 [==============================] - 0s 2ms/step - loss: 125.4848 - mean_squared_error: 125.4848\n",
            "Epoch 69/100\n",
            "12/12 [==============================] - 0s 2ms/step - loss: 41.4467 - mean_squared_error: 41.4467\n",
            "Epoch 70/100\n",
            "12/12 [==============================] - 0s 2ms/step - loss: 36.8309 - mean_squared_error: 36.8309\n",
            "Epoch 71/100\n",
            "12/12 [==============================] - 0s 2ms/step - loss: 35.7472 - mean_squared_error: 35.7472\n",
            "Epoch 72/100\n",
            "12/12 [==============================] - 0s 2ms/step - loss: 27.6937 - mean_squared_error: 27.6937\n",
            "Epoch 73/100\n",
            "12/12 [==============================] - 0s 2ms/step - loss: 29.0374 - mean_squared_error: 29.0374\n",
            "Epoch 74/100\n",
            "12/12 [==============================] - 0s 2ms/step - loss: 45.6146 - mean_squared_error: 45.6146\n",
            "Epoch 75/100\n",
            "12/12 [==============================] - 0s 2ms/step - loss: 36.8938 - mean_squared_error: 36.8938\n",
            "Epoch 76/100\n",
            "12/12 [==============================] - 0s 2ms/step - loss: 23.4528 - mean_squared_error: 23.4528\n",
            "Epoch 77/100\n",
            "12/12 [==============================] - 0s 2ms/step - loss: 33.4407 - mean_squared_error: 33.4407\n",
            "Epoch 78/100\n",
            "12/12 [==============================] - 0s 3ms/step - loss: 31.1884 - mean_squared_error: 31.1884\n",
            "Epoch 79/100\n",
            "12/12 [==============================] - 0s 3ms/step - loss: 34.3528 - mean_squared_error: 34.3528\n",
            "Epoch 80/100\n",
            "12/12 [==============================] - 0s 3ms/step - loss: 17.9035 - mean_squared_error: 17.9035\n",
            "Epoch 81/100\n",
            "12/12 [==============================] - 0s 2ms/step - loss: 30.5290 - mean_squared_error: 30.5290\n",
            "Epoch 82/100\n",
            "12/12 [==============================] - 0s 2ms/step - loss: 30.1680 - mean_squared_error: 30.1680\n",
            "Epoch 83/100\n",
            "12/12 [==============================] - 0s 2ms/step - loss: 30.3566 - mean_squared_error: 30.3566\n",
            "Epoch 84/100\n",
            "12/12 [==============================] - 0s 2ms/step - loss: 44.4636 - mean_squared_error: 44.4636\n",
            "Epoch 85/100\n",
            "12/12 [==============================] - 0s 2ms/step - loss: 30.1685 - mean_squared_error: 30.1685\n",
            "Epoch 86/100\n",
            "12/12 [==============================] - 0s 2ms/step - loss: 18.6394 - mean_squared_error: 18.6394\n",
            "Epoch 87/100\n",
            "12/12 [==============================] - 0s 4ms/step - loss: 27.8785 - mean_squared_error: 27.8785\n",
            "Epoch 88/100\n",
            "12/12 [==============================] - 0s 2ms/step - loss: 23.6522 - mean_squared_error: 23.6522\n",
            "Epoch 89/100\n",
            "12/12 [==============================] - 0s 2ms/step - loss: 27.1957 - mean_squared_error: 27.1957\n",
            "Epoch 90/100\n",
            "12/12 [==============================] - 0s 2ms/step - loss: 27.5696 - mean_squared_error: 27.5696\n",
            "Epoch 91/100\n",
            "12/12 [==============================] - 0s 2ms/step - loss: 21.1625 - mean_squared_error: 21.1625\n",
            "Epoch 92/100\n",
            "12/12 [==============================] - 0s 2ms/step - loss: 25.2687 - mean_squared_error: 25.2687\n",
            "Epoch 93/100\n",
            "12/12 [==============================] - 0s 2ms/step - loss: 16.2518 - mean_squared_error: 16.2518\n",
            "Epoch 94/100\n",
            "12/12 [==============================] - 0s 2ms/step - loss: 24.0164 - mean_squared_error: 24.0164\n",
            "Epoch 95/100\n",
            "12/12 [==============================] - 0s 2ms/step - loss: 23.4469 - mean_squared_error: 23.4469\n",
            "Epoch 96/100\n",
            "12/12 [==============================] - 0s 2ms/step - loss: 18.9060 - mean_squared_error: 18.9060\n",
            "Epoch 97/100\n",
            "12/12 [==============================] - 0s 3ms/step - loss: 20.6575 - mean_squared_error: 20.6575\n",
            "Epoch 98/100\n",
            "12/12 [==============================] - 0s 2ms/step - loss: 17.5052 - mean_squared_error: 17.5052\n",
            "Epoch 99/100\n",
            "12/12 [==============================] - 0s 2ms/step - loss: 18.6049 - mean_squared_error: 18.6049\n",
            "Epoch 100/100\n",
            "12/12 [==============================] - 0s 3ms/step - loss: 19.8191 - mean_squared_error: 19.8191\n"
          ],
          "name": "stdout"
        }
      ]
    },
    {
      "cell_type": "code",
      "metadata": {
        "colab": {
          "base_uri": "https://localhost:8080/",
          "height": 295
        },
        "id": "KBTFmuuH-HtI",
        "outputId": "daf093a9-7c14-4240-d312-9270c1a8f57d"
      },
      "source": [
        "#Visualize the models accuracy and loss\n",
        "plt.plot(history.history[\"mean_squared_error\"])\n",
        "plt.title(\"Model MSE\")\n",
        "plt.ylabel(\"mean_squared_error and loss\")\n",
        "plt.xlabel(\"epoch\")\n",
        "plt.legend(['MSE'], loc='upper right')\n",
        "plt.show()"
      ],
      "execution_count": null,
      "outputs": [
        {
          "output_type": "display_data",
          "data": {
            "image/png": "[encoded data removed]",
            "text/plain": [
              "<Figure size 432x288 with 1 Axes>"
            ]
          },
          "metadata": {
            "tags": [],
            "needs_background": "light"
          }
        }
      ]
    },
    {
      "cell_type": "code",
      "metadata": {
        "colab": {
          "base_uri": "https://localhost:8080/"
        },
        "id": "I8edrZyy-EQ7",
        "outputId": "a0746e51-c0a4-4a5c-9589-d34523c26231"
      },
      "source": [
        "pred_train= model.predict(X_train)\n",
        "print(np.sqrt(mean_squared_error(y_train,pred_train)))\n",
        "\n",
        "pred= model.predict(X_test)\n",
        "print(np.sqrt(mean_squared_error(y_test,pred))) "
      ],
      "execution_count": null,
      "outputs": [
        {
          "output_type": "stream",
          "text": [
            "4.494450875684164\n",
            "6.5345135093111155\n"
          ],
          "name": "stdout"
        }
      ]
    },
    {
      "cell_type": "code",
      "metadata": {
        "id": "qo2aLbR9REy_"
      },
      "source": [
        ""
      ],
      "execution_count": null,
      "outputs": []
    }
  ]
}