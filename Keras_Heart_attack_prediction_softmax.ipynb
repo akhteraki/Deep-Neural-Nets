{
 "cells": [
  {
   "cell_type": "markdown",
   "metadata": {
    "id": "guCDSoAVUS_D"
   },
   "source": [
    "# **Heart disease Prediction using Deep neural network**\n",
    "\n",
    "\n",
    "\n",
    "\n",
    "\n",
    "\n",
    "\n",
    "\n",
    "\n",
    "\n",
    "\n",
    "\n",
    "\n",
    "\n",
    "\n",
    "\n",
    "\n",
    "\n"
   ]
  },
  {
   "cell_type": "markdown",
   "metadata": {
    "id": "spz9apC0WpDS"
   },
   "source": [
    "## **Context**\n",
    "\n",
    "\n",
    "---\n",
    "This data set dates from 1988 and consists of four databases: Cleveland, Hungary, Switzerland, and Long Beach V. It contains 76 attributes, including the predicted attribute, but all published experiments refer to using a subset of 14 of them. The \"target\" field refers to the presence of heart disease in the patient. It is integer valued 0 = no disease and 1 = disease.\n",
    "\n"
   ]
  },
  {
   "cell_type": "markdown",
   "metadata": {
    "id": "ckABWKV2U7Bi"
   },
   "source": [
    "## **Problem Statement**: \n",
    "\n",
    "---\n",
    "\n",
    "\n",
    "\n",
    "To predict if the patient will have a heart disease or not\n",
    "\n",
    "\n",
    "\n"
   ]
  },
  {
   "cell_type": "markdown",
   "metadata": {
    "id": "LG7gzS243s6B"
   },
   "source": [
    "## **Attribute Information :**\n",
    "\n",
    "|Features|Description|\n",
    "|-----|-----|\n",
    "|1. age|(in years)|\n",
    "|2. sex:| (1 = male; 0 = female)|\n",
    "|3. cp: | chest pain type|\n",
    "|4. trestbps:| resting blood pressure (in mm Hg on admission to the                     | hospital)|\n",
    "|5. chol:    |    serum cholestoral in mg/dl|\n",
    "|6. fbs:     |(fasting blood sugar > 120 mg/dl) (1 = true; 0 = false)|\n",
    "|7. restecg: | resting electrocardiographic results|\n",
    "|8. thalach: | maximum heart rate achieved |\n",
    "|9. exang:   |exercise induced angina (1 = yes; 0 = no)\n",
    "|10. oldpeak:|ST depression induced by exercise relative to rest|\n",
    "|11. slope:  |the slope of the peak exercise ST segment|\n",
    "|12. ca:     |number of major vessels (0-3) colored by flourosopy|\n",
    "|13. thal:   |3 = normal; 6 = fixed defect; 7 = reversable defect|\n",
    "|14. target: | 1 or 0                                            |"
   ]
  },
  {
   "cell_type": "markdown",
   "metadata": {
    "id": "jr7X9eDjXBwD"
   },
   "source": [
    "## **Importing All Required Libraries**\n",
    "\n",
    "---\n",
    "\n",
    "\n",
    "\n",
    "\n"
   ]
  },
  {
   "cell_type": "code",
   "execution_count": 1,
   "metadata": {
    "id": "HXAxBMri2iRP"
   },
   "outputs": [],
   "source": [
    "#importing all the libraries\n",
    "import numpy as np\n",
    "import pandas as pd\n",
    "import matplotlib.pyplot as plt\n",
    "import matplotlib.style as style # for styling the graphss\n",
    "import warnings\n",
    "warnings.filterwarnings('ignore')\n",
    "# To display float with 2 decimal, avoid scientific printing\n",
    "pd.options.display.float_format = '{:.2f}'.format\n",
    "import seaborn as sns\n",
    "import warnings\n",
    "warnings.filterwarnings('ignore')\n",
    "from sklearn.model_selection import train_test_split\n",
    "from tensorflow.keras.utils import to_categorical\n",
    "from sklearn.metrics import accuracy_score\n",
    "from sklearn.metrics import classification_report, confusion_matrix  "
   ]
  },
  {
   "cell_type": "code",
   "execution_count": 2,
   "metadata": {
    "colab": {
     "base_uri": "https://localhost:8080/",
     "height": 206
    },
    "id": "HFEz0a27Q7lH",
    "outputId": "9ef91593-5b38-4edf-856d-315b3f54b414"
   },
   "outputs": [
    {
     "data": {
      "text/html": [
       "<div>\n",
       "<style scoped>\n",
       "    .dataframe tbody tr th:only-of-type {\n",
       "        vertical-align: middle;\n",
       "    }\n",
       "\n",
       "    .dataframe tbody tr th {\n",
       "        vertical-align: top;\n",
       "    }\n",
       "\n",
       "    .dataframe thead th {\n",
       "        text-align: right;\n",
       "    }\n",
       "</style>\n",
       "<table border=\"1\" class=\"dataframe\">\n",
       "  <thead>\n",
       "    <tr style=\"text-align: right;\">\n",
       "      <th></th>\n",
       "      <th>age</th>\n",
       "      <th>sex</th>\n",
       "      <th>cp</th>\n",
       "      <th>trestbps</th>\n",
       "      <th>chol</th>\n",
       "      <th>fbs</th>\n",
       "      <th>restecg</th>\n",
       "      <th>thalach</th>\n",
       "      <th>exang</th>\n",
       "      <th>oldpeak</th>\n",
       "      <th>slope</th>\n",
       "      <th>ca</th>\n",
       "      <th>thal</th>\n",
       "      <th>target</th>\n",
       "    </tr>\n",
       "  </thead>\n",
       "  <tbody>\n",
       "    <tr>\n",
       "      <th>0</th>\n",
       "      <td>52</td>\n",
       "      <td>1</td>\n",
       "      <td>0</td>\n",
       "      <td>125</td>\n",
       "      <td>212</td>\n",
       "      <td>0</td>\n",
       "      <td>1</td>\n",
       "      <td>168</td>\n",
       "      <td>0</td>\n",
       "      <td>1.00</td>\n",
       "      <td>2</td>\n",
       "      <td>2</td>\n",
       "      <td>3</td>\n",
       "      <td>0</td>\n",
       "    </tr>\n",
       "    <tr>\n",
       "      <th>1</th>\n",
       "      <td>53</td>\n",
       "      <td>1</td>\n",
       "      <td>0</td>\n",
       "      <td>140</td>\n",
       "      <td>203</td>\n",
       "      <td>1</td>\n",
       "      <td>0</td>\n",
       "      <td>155</td>\n",
       "      <td>1</td>\n",
       "      <td>3.10</td>\n",
       "      <td>0</td>\n",
       "      <td>0</td>\n",
       "      <td>3</td>\n",
       "      <td>0</td>\n",
       "    </tr>\n",
       "    <tr>\n",
       "      <th>2</th>\n",
       "      <td>70</td>\n",
       "      <td>1</td>\n",
       "      <td>0</td>\n",
       "      <td>145</td>\n",
       "      <td>174</td>\n",
       "      <td>0</td>\n",
       "      <td>1</td>\n",
       "      <td>125</td>\n",
       "      <td>1</td>\n",
       "      <td>2.60</td>\n",
       "      <td>0</td>\n",
       "      <td>0</td>\n",
       "      <td>3</td>\n",
       "      <td>0</td>\n",
       "    </tr>\n",
       "    <tr>\n",
       "      <th>3</th>\n",
       "      <td>61</td>\n",
       "      <td>1</td>\n",
       "      <td>0</td>\n",
       "      <td>148</td>\n",
       "      <td>203</td>\n",
       "      <td>0</td>\n",
       "      <td>1</td>\n",
       "      <td>161</td>\n",
       "      <td>0</td>\n",
       "      <td>0.00</td>\n",
       "      <td>2</td>\n",
       "      <td>1</td>\n",
       "      <td>3</td>\n",
       "      <td>0</td>\n",
       "    </tr>\n",
       "    <tr>\n",
       "      <th>4</th>\n",
       "      <td>62</td>\n",
       "      <td>0</td>\n",
       "      <td>0</td>\n",
       "      <td>138</td>\n",
       "      <td>294</td>\n",
       "      <td>1</td>\n",
       "      <td>1</td>\n",
       "      <td>106</td>\n",
       "      <td>0</td>\n",
       "      <td>1.90</td>\n",
       "      <td>1</td>\n",
       "      <td>3</td>\n",
       "      <td>2</td>\n",
       "      <td>0</td>\n",
       "    </tr>\n",
       "  </tbody>\n",
       "</table>\n",
       "</div>"
      ],
      "text/plain": [
       "   age  sex  cp  trestbps  chol  fbs  restecg  thalach  exang  oldpeak  slope  \\\n",
       "0   52    1   0       125   212    0        1      168      0     1.00      2   \n",
       "1   53    1   0       140   203    1        0      155      1     3.10      0   \n",
       "2   70    1   0       145   174    0        1      125      1     2.60      0   \n",
       "3   61    1   0       148   203    0        1      161      0     0.00      2   \n",
       "4   62    0   0       138   294    1        1      106      0     1.90      1   \n",
       "\n",
       "   ca  thal  target  \n",
       "0   2     3       0  \n",
       "1   0     3       0  \n",
       "2   0     3       0  \n",
       "3   1     3       0  \n",
       "4   3     2       0  "
      ]
     },
     "execution_count": 2,
     "metadata": {},
     "output_type": "execute_result"
    }
   ],
   "source": [
    "df = pd.read_csv(\"heart.csv\")\n",
    "df.head()"
   ]
  },
  {
   "cell_type": "code",
   "execution_count": 3,
   "metadata": {
    "colab": {
     "base_uri": "https://localhost:8080/"
    },
    "id": "nR0hhSGBrXIJ",
    "outputId": "80bcf664-8012-478f-a24f-a97289f200ca"
   },
   "outputs": [
    {
     "name": "stdout",
     "output_type": "stream",
     "text": [
      "<class 'pandas.core.frame.DataFrame'>\n",
      "RangeIndex: 1025 entries, 0 to 1024\n",
      "Data columns (total 14 columns):\n",
      " #   Column    Non-Null Count  Dtype  \n",
      "---  ------    --------------  -----  \n",
      " 0   age       1025 non-null   int64  \n",
      " 1   sex       1025 non-null   int64  \n",
      " 2   cp        1025 non-null   int64  \n",
      " 3   trestbps  1025 non-null   int64  \n",
      " 4   chol      1025 non-null   int64  \n",
      " 5   fbs       1025 non-null   int64  \n",
      " 6   restecg   1025 non-null   int64  \n",
      " 7   thalach   1025 non-null   int64  \n",
      " 8   exang     1025 non-null   int64  \n",
      " 9   oldpeak   1025 non-null   float64\n",
      " 10  slope     1025 non-null   int64  \n",
      " 11  ca        1025 non-null   int64  \n",
      " 12  thal      1025 non-null   int64  \n",
      " 13  target    1025 non-null   int64  \n",
      "dtypes: float64(1), int64(13)\n",
      "memory usage: 112.2 KB\n"
     ]
    }
   ],
   "source": [
    "df.info()"
   ]
  },
  {
   "cell_type": "code",
   "execution_count": 4,
   "metadata": {
    "colab": {
     "base_uri": "https://localhost:8080/"
    },
    "id": "QImPMtWyp56u",
    "outputId": "de264a3d-29d3-4000-93d8-90fa66167c86"
   },
   "outputs": [
    {
     "data": {
      "text/plain": [
       "age         0\n",
       "sex         0\n",
       "cp          0\n",
       "trestbps    0\n",
       "chol        0\n",
       "fbs         0\n",
       "restecg     0\n",
       "thalach     0\n",
       "exang       0\n",
       "oldpeak     0\n",
       "slope       0\n",
       "ca          0\n",
       "thal        0\n",
       "target      0\n",
       "dtype: int64"
      ]
     },
     "execution_count": 4,
     "metadata": {},
     "output_type": "execute_result"
    }
   ],
   "source": [
    "df.isna().sum()"
   ]
  },
  {
   "cell_type": "markdown",
   "metadata": {
    "id": "JKsuDEVvSFdD"
   },
   "source": [
    "## Find unique values"
   ]
  },
  {
   "cell_type": "code",
   "execution_count": 5,
   "metadata": {
    "id": "PrqRRI46nuiy"
   },
   "outputs": [],
   "source": [
    "def print_unique_col_values(df):\n",
    "       for column in df:\n",
    "            if df[column].dtypes=='int64':\n",
    "                print(f'{column}: {df[column].unique()}') "
   ]
  },
  {
   "cell_type": "code",
   "execution_count": 6,
   "metadata": {
    "id": "o_FsNrJQn8_X"
   },
   "outputs": [],
   "source": [
    "\n",
    "#print_unique_col_values(df)"
   ]
  },
  {
   "cell_type": "code",
   "execution_count": 7,
   "metadata": {
    "colab": {
     "base_uri": "https://localhost:8080/"
    },
    "id": "nLE2IObDmZ_S",
    "outputId": "6a92e364-e2c4-4436-d2c2-a902fb862f42"
   },
   "outputs": [
    {
     "data": {
      "text/plain": [
       "(1025, 14)"
      ]
     },
     "execution_count": 7,
     "metadata": {},
     "output_type": "execute_result"
    }
   ],
   "source": [
    "df.shape"
   ]
  },
  {
   "cell_type": "markdown",
   "metadata": {
    "id": "N1rxikBvmyte"
   },
   "source": [
    "#Get dummmies for various variables"
   ]
  },
  {
   "cell_type": "code",
   "execution_count": 8,
   "metadata": {
    "colab": {
     "base_uri": "https://localhost:8080/",
     "height": 206
    },
    "id": "1o68By1qmmE6",
    "outputId": "93e62843-1fff-401b-cd89-5b5175651668"
   },
   "outputs": [
    {
     "data": {
      "text/html": [
       "<div>\n",
       "<style scoped>\n",
       "    .dataframe tbody tr th:only-of-type {\n",
       "        vertical-align: middle;\n",
       "    }\n",
       "\n",
       "    .dataframe tbody tr th {\n",
       "        vertical-align: top;\n",
       "    }\n",
       "\n",
       "    .dataframe thead th {\n",
       "        text-align: right;\n",
       "    }\n",
       "</style>\n",
       "<table border=\"1\" class=\"dataframe\">\n",
       "  <thead>\n",
       "    <tr style=\"text-align: right;\">\n",
       "      <th></th>\n",
       "      <th>age</th>\n",
       "      <th>cp</th>\n",
       "      <th>trestbps</th>\n",
       "      <th>chol</th>\n",
       "      <th>fbs</th>\n",
       "      <th>restecg</th>\n",
       "      <th>thalach</th>\n",
       "      <th>exang</th>\n",
       "      <th>oldpeak</th>\n",
       "      <th>slope</th>\n",
       "      <th>ca</th>\n",
       "      <th>thal</th>\n",
       "      <th>target</th>\n",
       "      <th>sex_0</th>\n",
       "      <th>sex_1</th>\n",
       "    </tr>\n",
       "  </thead>\n",
       "  <tbody>\n",
       "    <tr>\n",
       "      <th>0</th>\n",
       "      <td>52</td>\n",
       "      <td>0</td>\n",
       "      <td>125</td>\n",
       "      <td>212</td>\n",
       "      <td>0</td>\n",
       "      <td>1</td>\n",
       "      <td>168</td>\n",
       "      <td>0</td>\n",
       "      <td>1.00</td>\n",
       "      <td>2</td>\n",
       "      <td>2</td>\n",
       "      <td>3</td>\n",
       "      <td>0</td>\n",
       "      <td>0</td>\n",
       "      <td>1</td>\n",
       "    </tr>\n",
       "    <tr>\n",
       "      <th>1</th>\n",
       "      <td>53</td>\n",
       "      <td>0</td>\n",
       "      <td>140</td>\n",
       "      <td>203</td>\n",
       "      <td>1</td>\n",
       "      <td>0</td>\n",
       "      <td>155</td>\n",
       "      <td>1</td>\n",
       "      <td>3.10</td>\n",
       "      <td>0</td>\n",
       "      <td>0</td>\n",
       "      <td>3</td>\n",
       "      <td>0</td>\n",
       "      <td>0</td>\n",
       "      <td>1</td>\n",
       "    </tr>\n",
       "    <tr>\n",
       "      <th>2</th>\n",
       "      <td>70</td>\n",
       "      <td>0</td>\n",
       "      <td>145</td>\n",
       "      <td>174</td>\n",
       "      <td>0</td>\n",
       "      <td>1</td>\n",
       "      <td>125</td>\n",
       "      <td>1</td>\n",
       "      <td>2.60</td>\n",
       "      <td>0</td>\n",
       "      <td>0</td>\n",
       "      <td>3</td>\n",
       "      <td>0</td>\n",
       "      <td>0</td>\n",
       "      <td>1</td>\n",
       "    </tr>\n",
       "    <tr>\n",
       "      <th>3</th>\n",
       "      <td>61</td>\n",
       "      <td>0</td>\n",
       "      <td>148</td>\n",
       "      <td>203</td>\n",
       "      <td>0</td>\n",
       "      <td>1</td>\n",
       "      <td>161</td>\n",
       "      <td>0</td>\n",
       "      <td>0.00</td>\n",
       "      <td>2</td>\n",
       "      <td>1</td>\n",
       "      <td>3</td>\n",
       "      <td>0</td>\n",
       "      <td>0</td>\n",
       "      <td>1</td>\n",
       "    </tr>\n",
       "    <tr>\n",
       "      <th>4</th>\n",
       "      <td>62</td>\n",
       "      <td>0</td>\n",
       "      <td>138</td>\n",
       "      <td>294</td>\n",
       "      <td>1</td>\n",
       "      <td>1</td>\n",
       "      <td>106</td>\n",
       "      <td>0</td>\n",
       "      <td>1.90</td>\n",
       "      <td>1</td>\n",
       "      <td>3</td>\n",
       "      <td>2</td>\n",
       "      <td>0</td>\n",
       "      <td>1</td>\n",
       "      <td>0</td>\n",
       "    </tr>\n",
       "  </tbody>\n",
       "</table>\n",
       "</div>"
      ],
      "text/plain": [
       "   age  cp  trestbps  chol  fbs  restecg  thalach  exang  oldpeak  slope  ca  \\\n",
       "0   52   0       125   212    0        1      168      0     1.00      2   2   \n",
       "1   53   0       140   203    1        0      155      1     3.10      0   0   \n",
       "2   70   0       145   174    0        1      125      1     2.60      0   0   \n",
       "3   61   0       148   203    0        1      161      0     0.00      2   1   \n",
       "4   62   0       138   294    1        1      106      0     1.90      1   3   \n",
       "\n",
       "   thal  target  sex_0  sex_1  \n",
       "0     3       0      0      1  \n",
       "1     3       0      0      1  \n",
       "2     3       0      0      1  \n",
       "3     3       0      0      1  \n",
       "4     2       0      1      0  "
      ]
     },
     "execution_count": 8,
     "metadata": {},
     "output_type": "execute_result"
    }
   ],
   "source": [
    "df = pd.concat([df,pd.get_dummies(df['sex'],prefix=\"sex\")],axis=1)\n",
    "df.drop('sex', axis=1, inplace=True)\n",
    "df.head()"
   ]
  },
  {
   "cell_type": "code",
   "execution_count": 9,
   "metadata": {
    "colab": {
     "base_uri": "https://localhost:8080/"
    },
    "id": "gSGjiIplm6Ah",
    "outputId": "a88b8a95-d874-4d03-d87d-f4c7bcc9d471"
   },
   "outputs": [
    {
     "data": {
      "text/plain": [
       "(1025, 15)"
      ]
     },
     "execution_count": 9,
     "metadata": {},
     "output_type": "execute_result"
    }
   ],
   "source": [
    "df.shape"
   ]
  },
  {
   "cell_type": "code",
   "execution_count": 10,
   "metadata": {
    "id": "Grd5WLAtnNXp"
   },
   "outputs": [],
   "source": [
    "df = pd.concat([df,pd.get_dummies(df['cp'],prefix=\"cp\")],axis=1)\n",
    "df.drop('cp', axis=1, inplace=True)\n",
    "\n",
    "\n",
    "\n",
    "df = pd.concat([df,pd.get_dummies(df['fbs'],prefix=\"fbs\")],axis=1)\n",
    "df.drop('fbs', axis=1, inplace=True)\n",
    "\n",
    "\n",
    "df = pd.concat([df,pd.get_dummies(df['restecg'],prefix=\"restecg\")],axis=1)\n",
    "df.drop('restecg', axis=1, inplace=True)\n",
    "\n",
    "\n",
    "\n",
    "\n",
    "df = pd.concat([df,pd.get_dummies(df['exang'],prefix=\"exang\")],axis=1)\n",
    "df.drop('exang', axis=1, inplace=True)\n",
    "\n",
    "\n",
    "\n",
    "\n",
    "df = pd.concat([df,pd.get_dummies(df['slope'],prefix=\"slope\")],axis=1)\n",
    "df.drop('slope', axis=1, inplace=True)\n",
    "\n",
    "\n",
    "\n",
    "df = pd.concat([df,pd.get_dummies(df['ca'],prefix=\"ca\")],axis=1)\n",
    "df.drop('ca', axis=1, inplace=True)\n",
    "\n",
    "\n",
    "df = pd.concat([df,pd.get_dummies(df['thal'],prefix=\"thal\")],axis=1)\n",
    "df.drop('thal', axis=1, inplace=True)"
   ]
  },
  {
   "cell_type": "code",
   "execution_count": 11,
   "metadata": {
    "colab": {
     "base_uri": "https://localhost:8080/"
    },
    "id": "BUV-7GW9onPg",
    "outputId": "caf07b2a-e3bd-4792-e963-07f4c5f53c68"
   },
   "outputs": [
    {
     "data": {
      "text/plain": [
       "(1025, 31)"
      ]
     },
     "execution_count": 11,
     "metadata": {},
     "output_type": "execute_result"
    }
   ],
   "source": [
    "df.shape"
   ]
  },
  {
   "cell_type": "code",
   "execution_count": 12,
   "metadata": {
    "colab": {
     "base_uri": "https://localhost:8080/",
     "height": 236
    },
    "id": "T7-eCBTcqFeo",
    "outputId": "79e85af8-d937-4a25-d40f-3f98c362e9d6"
   },
   "outputs": [
    {
     "data": {
      "text/html": [
       "<div>\n",
       "<style scoped>\n",
       "    .dataframe tbody tr th:only-of-type {\n",
       "        vertical-align: middle;\n",
       "    }\n",
       "\n",
       "    .dataframe tbody tr th {\n",
       "        vertical-align: top;\n",
       "    }\n",
       "\n",
       "    .dataframe thead th {\n",
       "        text-align: right;\n",
       "    }\n",
       "</style>\n",
       "<table border=\"1\" class=\"dataframe\">\n",
       "  <thead>\n",
       "    <tr style=\"text-align: right;\">\n",
       "      <th></th>\n",
       "      <th>age</th>\n",
       "      <th>trestbps</th>\n",
       "      <th>chol</th>\n",
       "      <th>thalach</th>\n",
       "      <th>oldpeak</th>\n",
       "      <th>target</th>\n",
       "      <th>sex_0</th>\n",
       "      <th>sex_1</th>\n",
       "      <th>cp_0</th>\n",
       "      <th>cp_1</th>\n",
       "      <th>...</th>\n",
       "      <th>slope_2</th>\n",
       "      <th>ca_0</th>\n",
       "      <th>ca_1</th>\n",
       "      <th>ca_2</th>\n",
       "      <th>ca_3</th>\n",
       "      <th>ca_4</th>\n",
       "      <th>thal_0</th>\n",
       "      <th>thal_1</th>\n",
       "      <th>thal_2</th>\n",
       "      <th>thal_3</th>\n",
       "    </tr>\n",
       "  </thead>\n",
       "  <tbody>\n",
       "    <tr>\n",
       "      <th>0</th>\n",
       "      <td>52</td>\n",
       "      <td>125</td>\n",
       "      <td>212</td>\n",
       "      <td>168</td>\n",
       "      <td>1.00</td>\n",
       "      <td>0</td>\n",
       "      <td>0</td>\n",
       "      <td>1</td>\n",
       "      <td>1</td>\n",
       "      <td>0</td>\n",
       "      <td>...</td>\n",
       "      <td>1</td>\n",
       "      <td>0</td>\n",
       "      <td>0</td>\n",
       "      <td>1</td>\n",
       "      <td>0</td>\n",
       "      <td>0</td>\n",
       "      <td>0</td>\n",
       "      <td>0</td>\n",
       "      <td>0</td>\n",
       "      <td>1</td>\n",
       "    </tr>\n",
       "    <tr>\n",
       "      <th>1</th>\n",
       "      <td>53</td>\n",
       "      <td>140</td>\n",
       "      <td>203</td>\n",
       "      <td>155</td>\n",
       "      <td>3.10</td>\n",
       "      <td>0</td>\n",
       "      <td>0</td>\n",
       "      <td>1</td>\n",
       "      <td>1</td>\n",
       "      <td>0</td>\n",
       "      <td>...</td>\n",
       "      <td>0</td>\n",
       "      <td>1</td>\n",
       "      <td>0</td>\n",
       "      <td>0</td>\n",
       "      <td>0</td>\n",
       "      <td>0</td>\n",
       "      <td>0</td>\n",
       "      <td>0</td>\n",
       "      <td>0</td>\n",
       "      <td>1</td>\n",
       "    </tr>\n",
       "    <tr>\n",
       "      <th>2</th>\n",
       "      <td>70</td>\n",
       "      <td>145</td>\n",
       "      <td>174</td>\n",
       "      <td>125</td>\n",
       "      <td>2.60</td>\n",
       "      <td>0</td>\n",
       "      <td>0</td>\n",
       "      <td>1</td>\n",
       "      <td>1</td>\n",
       "      <td>0</td>\n",
       "      <td>...</td>\n",
       "      <td>0</td>\n",
       "      <td>1</td>\n",
       "      <td>0</td>\n",
       "      <td>0</td>\n",
       "      <td>0</td>\n",
       "      <td>0</td>\n",
       "      <td>0</td>\n",
       "      <td>0</td>\n",
       "      <td>0</td>\n",
       "      <td>1</td>\n",
       "    </tr>\n",
       "    <tr>\n",
       "      <th>3</th>\n",
       "      <td>61</td>\n",
       "      <td>148</td>\n",
       "      <td>203</td>\n",
       "      <td>161</td>\n",
       "      <td>0.00</td>\n",
       "      <td>0</td>\n",
       "      <td>0</td>\n",
       "      <td>1</td>\n",
       "      <td>1</td>\n",
       "      <td>0</td>\n",
       "      <td>...</td>\n",
       "      <td>1</td>\n",
       "      <td>0</td>\n",
       "      <td>1</td>\n",
       "      <td>0</td>\n",
       "      <td>0</td>\n",
       "      <td>0</td>\n",
       "      <td>0</td>\n",
       "      <td>0</td>\n",
       "      <td>0</td>\n",
       "      <td>1</td>\n",
       "    </tr>\n",
       "    <tr>\n",
       "      <th>4</th>\n",
       "      <td>62</td>\n",
       "      <td>138</td>\n",
       "      <td>294</td>\n",
       "      <td>106</td>\n",
       "      <td>1.90</td>\n",
       "      <td>0</td>\n",
       "      <td>1</td>\n",
       "      <td>0</td>\n",
       "      <td>1</td>\n",
       "      <td>0</td>\n",
       "      <td>...</td>\n",
       "      <td>0</td>\n",
       "      <td>0</td>\n",
       "      <td>0</td>\n",
       "      <td>0</td>\n",
       "      <td>1</td>\n",
       "      <td>0</td>\n",
       "      <td>0</td>\n",
       "      <td>0</td>\n",
       "      <td>1</td>\n",
       "      <td>0</td>\n",
       "    </tr>\n",
       "  </tbody>\n",
       "</table>\n",
       "<p>5 rows × 31 columns</p>\n",
       "</div>"
      ],
      "text/plain": [
       "   age  trestbps  chol  thalach  oldpeak  target  sex_0  sex_1  cp_0  cp_1  \\\n",
       "0   52       125   212      168     1.00       0      0      1     1     0   \n",
       "1   53       140   203      155     3.10       0      0      1     1     0   \n",
       "2   70       145   174      125     2.60       0      0      1     1     0   \n",
       "3   61       148   203      161     0.00       0      0      1     1     0   \n",
       "4   62       138   294      106     1.90       0      1      0     1     0   \n",
       "\n",
       "   ...  slope_2  ca_0  ca_1  ca_2  ca_3  ca_4  thal_0  thal_1  thal_2  thal_3  \n",
       "0  ...        1     0     0     1     0     0       0       0       0       1  \n",
       "1  ...        0     1     0     0     0     0       0       0       0       1  \n",
       "2  ...        0     1     0     0     0     0       0       0       0       1  \n",
       "3  ...        1     0     1     0     0     0       0       0       0       1  \n",
       "4  ...        0     0     0     0     1     0       0       0       1       0  \n",
       "\n",
       "[5 rows x 31 columns]"
      ]
     },
     "execution_count": 12,
     "metadata": {},
     "output_type": "execute_result"
    }
   ],
   "source": [
    "df.head()"
   ]
  },
  {
   "cell_type": "markdown",
   "metadata": {},
   "source": [
    "### Balance or imbalance"
   ]
  },
  {
   "cell_type": "code",
   "execution_count": 13,
   "metadata": {},
   "outputs": [
    {
     "data": {
      "image/png": "[encoded data removed]",
      "text/plain": [
       "<Figure size 640x480 with 1 Axes>"
      ]
     },
     "metadata": {},
     "output_type": "display_data"
    }
   ],
   "source": [
    "sns.countplot(x ='target', data = df)\n",
    "plt.show()"
   ]
  },
  {
   "cell_type": "code",
   "execution_count": 14,
   "metadata": {
    "colab": {
     "base_uri": "https://localhost:8080/"
    },
    "id": "7_NRUJQ_r5K3",
    "outputId": "590ef4c8-261f-4a4a-a92a-52148ad5defe"
   },
   "outputs": [
    {
     "data": {
      "text/plain": [
       "0       0\n",
       "1       0\n",
       "2       0\n",
       "3       0\n",
       "4       0\n",
       "       ..\n",
       "1020    1\n",
       "1021    0\n",
       "1022    0\n",
       "1023    1\n",
       "1024    0\n",
       "Name: target, Length: 1025, dtype: int64"
      ]
     },
     "execution_count": 14,
     "metadata": {},
     "output_type": "execute_result"
    }
   ],
   "source": [
    "df['target']"
   ]
  },
  {
   "cell_type": "code",
   "execution_count": 15,
   "metadata": {
    "id": "e5vZUQ3MxBGS"
   },
   "outputs": [],
   "source": [
    "x_columns = df.columns.drop('target')\n",
    "X = df[x_columns].values\n",
    "y = df['target'].values"
   ]
  },
  {
   "cell_type": "code",
   "execution_count": 16,
   "metadata": {
    "colab": {
     "base_uri": "https://localhost:8080/"
    },
    "id": "p16CnorDqvUQ",
    "outputId": "644e2085-715b-4879-fcaf-ce81703ca52a"
   },
   "outputs": [
    {
     "data": {
      "text/plain": [
       "(1025, 30)"
      ]
     },
     "execution_count": 16,
     "metadata": {},
     "output_type": "execute_result"
    }
   ],
   "source": [
    "X.shape"
   ]
  },
  {
   "cell_type": "code",
   "execution_count": 17,
   "metadata": {
    "colab": {
     "base_uri": "https://localhost:8080/"
    },
    "id": "1CirNxVmmB_S",
    "outputId": "119389d6-1ce0-41a9-b7c5-18d988d95f0e"
   },
   "outputs": [
    {
     "data": {
      "text/plain": [
       "(1025,)"
      ]
     },
     "execution_count": 17,
     "metadata": {},
     "output_type": "execute_result"
    }
   ],
   "source": [
    "y.shape"
   ]
  },
  {
   "cell_type": "code",
   "execution_count": 18,
   "metadata": {
    "colab": {
     "base_uri": "https://localhost:8080/"
    },
    "id": "yOrD-jCDmEFl",
    "outputId": "a08804f3-223c-4f52-81cf-4c79812e4c64"
   },
   "outputs": [
    {
     "data": {
      "text/plain": [
       "(1025, 2)"
      ]
     },
     "execution_count": 18,
     "metadata": {},
     "output_type": "execute_result"
    }
   ],
   "source": [
    "# if using softmax\n",
    "y = to_categorical(y)\n",
    "y.shape"
   ]
  },
  {
   "cell_type": "code",
   "execution_count": 19,
   "metadata": {
    "colab": {
     "base_uri": "https://localhost:8080/"
    },
    "id": "mypc1Cq_WIYS",
    "outputId": "5e2e6252-531f-4e72-cecd-c9d3a7cd4a39"
   },
   "outputs": [
    {
     "data": {
      "text/plain": [
       "array([[1., 0.],\n",
       "       [1., 0.],\n",
       "       [1., 0.],\n",
       "       [1., 0.],\n",
       "       [1., 0.]], dtype=float32)"
      ]
     },
     "execution_count": 19,
     "metadata": {},
     "output_type": "execute_result"
    }
   ],
   "source": [
    "y[:5]"
   ]
  },
  {
   "cell_type": "markdown",
   "metadata": {
    "id": "MRSgL00jSKtC"
   },
   "source": [
    "# Data split"
   ]
  },
  {
   "cell_type": "code",
   "execution_count": 20,
   "metadata": {
    "id": "M-1lMKmVsZJu"
   },
   "outputs": [],
   "source": [
    "X_train,X_test,y_train,y_test = train_test_split(X,y,test_size = 0.2)"
   ]
  },
  {
   "cell_type": "markdown",
   "metadata": {
    "id": "75XTIuthSPyU"
   },
   "source": [
    "# Define model"
   ]
  },
  {
   "cell_type": "code",
   "execution_count": 21,
   "metadata": {
    "id": "2R7j_nuXsznv"
   },
   "outputs": [],
   "source": [
    "import keras\n",
    "from keras.models import Sequential\n",
    "from keras.layers import Dense\n",
    "\n",
    "model = Sequential()\n",
    "model.add(Dense(100, input_dim=X.shape[1], activation=\"relu\"))\n",
    "model.add(Dense(100, activation=\"relu\"))\n",
    "model.add(Dense(50, activation=\"relu\"))\n",
    "model.add(Dense(2, activation='softmax'))"
   ]
  },
  {
   "cell_type": "code",
   "execution_count": 22,
   "metadata": {},
   "outputs": [],
   "source": [
    "model = Sequential()\n",
    "model.add(Dense(100, input_dim=X.shape[1], activation=\"relu\"))\n",
    "model.add(Dense(100, activation=\"relu\"))\n",
    "model.add(Dense(250, activation=\"relu\"))\n",
    "model.add(Dense(350, activation=\"relu\"))\n",
    "model.add(Dense(150, activation=\"relu\"))\n",
    "model.add(Dense(2, activation='softmax'))"
   ]
  },
  {
   "cell_type": "code",
   "execution_count": 23,
   "metadata": {
    "colab": {
     "base_uri": "https://localhost:8080/"
    },
    "id": "A0wl0K4Ys9wP",
    "outputId": "759f2fab-8d8f-4fd0-ee39-3ceaf346819b"
   },
   "outputs": [
    {
     "name": "stdout",
     "output_type": "stream",
     "text": [
      "Model: \"sequential_1\"\n",
      "_________________________________________________________________\n",
      " Layer (type)                Output Shape              Param #   \n",
      "=================================================================\n",
      " dense_4 (Dense)             (None, 100)               3100      \n",
      "                                                                 \n",
      " dense_5 (Dense)             (None, 100)               10100     \n",
      "                                                                 \n",
      " dense_6 (Dense)             (None, 250)               25250     \n",
      "                                                                 \n",
      " dense_7 (Dense)             (None, 350)               87850     \n",
      "                                                                 \n",
      " dense_8 (Dense)             (None, 150)               52650     \n",
      "                                                                 \n",
      " dense_9 (Dense)             (None, 2)                 302       \n",
      "                                                                 \n",
      "=================================================================\n",
      "Total params: 179,252\n",
      "Trainable params: 179,252\n",
      "Non-trainable params: 0\n",
      "_________________________________________________________________\n"
     ]
    }
   ],
   "source": [
    "model.summary()"
   ]
  },
  {
   "cell_type": "markdown",
   "metadata": {
    "id": "5Z5BRH2-SUF-"
   },
   "source": [
    "## Compile model"
   ]
  },
  {
   "cell_type": "code",
   "execution_count": 24,
   "metadata": {
    "id": "MRiFaGfGtK3v"
   },
   "outputs": [],
   "source": [
    "model.compile(loss='binary_crossentropy', optimizer='adam', metrics=['accuracy'])"
   ]
  },
  {
   "cell_type": "markdown",
   "metadata": {
    "id": "Su2GY1BpSX3i"
   },
   "source": [
    "## Fit the model"
   ]
  },
  {
   "cell_type": "code",
   "execution_count": 25,
   "metadata": {
    "colab": {
     "base_uri": "https://localhost:8080/"
    },
    "id": "DuKuAx7ntQRv",
    "outputId": "2a072c4b-305d-4241-9803-1eb93e02771f"
   },
   "outputs": [
    {
     "name": "stdout",
     "output_type": "stream",
     "text": [
      "Epoch 1/300\n",
      "13/13 [==============================] - 1s 5ms/step - loss: 3.4348 - accuracy: 0.5110\n",
      "Epoch 2/300\n",
      "13/13 [==============================] - 0s 4ms/step - loss: 0.8797 - accuracy: 0.5646\n",
      "Epoch 3/300\n",
      "13/13 [==============================] - 0s 4ms/step - loss: 0.6853 - accuracy: 0.6073\n",
      "Epoch 4/300\n",
      "13/13 [==============================] - 0s 3ms/step - loss: 0.6210 - accuracy: 0.6463\n",
      "Epoch 5/300\n",
      "13/13 [==============================] - 0s 4ms/step - loss: 0.6118 - accuracy: 0.6500\n",
      "Epoch 6/300\n",
      "13/13 [==============================] - 0s 4ms/step - loss: 0.5904 - accuracy: 0.6695\n",
      "Epoch 7/300\n",
      "13/13 [==============================] - 0s 3ms/step - loss: 0.5735 - accuracy: 0.6927\n",
      "Epoch 8/300\n",
      "13/13 [==============================] - 0s 3ms/step - loss: 0.5705 - accuracy: 0.6829\n",
      "Epoch 9/300\n",
      "13/13 [==============================] - 0s 3ms/step - loss: 0.5508 - accuracy: 0.7122\n",
      "Epoch 10/300\n",
      "13/13 [==============================] - 0s 4ms/step - loss: 0.5630 - accuracy: 0.7122\n",
      "Epoch 11/300\n",
      "13/13 [==============================] - 0s 4ms/step - loss: 0.5304 - accuracy: 0.7207\n",
      "Epoch 12/300\n",
      "13/13 [==============================] - 0s 4ms/step - loss: 0.5150 - accuracy: 0.7268\n",
      "Epoch 13/300\n",
      "13/13 [==============================] - 0s 3ms/step - loss: 0.5111 - accuracy: 0.7573\n",
      "Epoch 14/300\n",
      "13/13 [==============================] - 0s 3ms/step - loss: 0.5139 - accuracy: 0.7305\n",
      "Epoch 15/300\n",
      "13/13 [==============================] - 0s 4ms/step - loss: 0.4479 - accuracy: 0.7683\n",
      "Epoch 16/300\n",
      "13/13 [==============================] - 0s 4ms/step - loss: 0.4440 - accuracy: 0.7915\n",
      "Epoch 17/300\n",
      "13/13 [==============================] - 0s 3ms/step - loss: 0.4564 - accuracy: 0.7805\n",
      "Epoch 18/300\n",
      "13/13 [==============================] - 0s 4ms/step - loss: 0.4233 - accuracy: 0.7902\n",
      "Epoch 19/300\n",
      "13/13 [==============================] - 0s 4ms/step - loss: 0.3725 - accuracy: 0.8280\n",
      "Epoch 20/300\n",
      "13/13 [==============================] - 0s 3ms/step - loss: 0.3826 - accuracy: 0.8207\n",
      "Epoch 21/300\n",
      "13/13 [==============================] - 0s 3ms/step - loss: 0.3323 - accuracy: 0.8476\n",
      "Epoch 22/300\n",
      "13/13 [==============================] - 0s 3ms/step - loss: 0.3129 - accuracy: 0.8476\n",
      "Epoch 23/300\n",
      "13/13 [==============================] - 0s 3ms/step - loss: 0.4290 - accuracy: 0.7939\n",
      "Epoch 24/300\n",
      "13/13 [==============================] - 0s 3ms/step - loss: 0.4003 - accuracy: 0.8085\n",
      "Epoch 25/300\n",
      "13/13 [==============================] - 0s 3ms/step - loss: 0.3231 - accuracy: 0.8707\n",
      "Epoch 26/300\n",
      "13/13 [==============================] - 0s 3ms/step - loss: 0.3158 - accuracy: 0.8549\n",
      "Epoch 27/300\n",
      "13/13 [==============================] - 0s 3ms/step - loss: 0.2990 - accuracy: 0.8659\n",
      "Epoch 28/300\n",
      "13/13 [==============================] - 0s 3ms/step - loss: 0.2945 - accuracy: 0.8561\n",
      "Epoch 29/300\n",
      "13/13 [==============================] - 0s 3ms/step - loss: 0.2934 - accuracy: 0.8732\n",
      "Epoch 30/300\n",
      "13/13 [==============================] - 0s 3ms/step - loss: 0.2819 - accuracy: 0.8768\n",
      "Epoch 31/300\n",
      "13/13 [==============================] - 0s 3ms/step - loss: 0.3381 - accuracy: 0.8512\n",
      "Epoch 32/300\n",
      "13/13 [==============================] - 0s 3ms/step - loss: 0.3999 - accuracy: 0.8122\n",
      "Epoch 33/300\n",
      "13/13 [==============================] - 0s 4ms/step - loss: 0.3241 - accuracy: 0.8622\n",
      "Epoch 34/300\n",
      "13/13 [==============================] - 0s 3ms/step - loss: 0.2944 - accuracy: 0.8707\n",
      "Epoch 35/300\n",
      "13/13 [==============================] - 0s 3ms/step - loss: 0.2801 - accuracy: 0.8793\n",
      "Epoch 36/300\n",
      "13/13 [==============================] - 0s 3ms/step - loss: 0.3080 - accuracy: 0.8537\n",
      "Epoch 37/300\n",
      "13/13 [==============================] - 0s 4ms/step - loss: 0.2935 - accuracy: 0.8512\n",
      "Epoch 38/300\n",
      "13/13 [==============================] - 0s 4ms/step - loss: 0.3004 - accuracy: 0.8683\n",
      "Epoch 39/300\n",
      "13/13 [==============================] - 0s 3ms/step - loss: 0.2745 - accuracy: 0.8866\n",
      "Epoch 40/300\n",
      "13/13 [==============================] - 0s 3ms/step - loss: 0.2766 - accuracy: 0.8780\n",
      "Epoch 41/300\n",
      "13/13 [==============================] - 0s 3ms/step - loss: 0.2739 - accuracy: 0.8817\n",
      "Epoch 42/300\n",
      "13/13 [==============================] - 0s 3ms/step - loss: 0.2539 - accuracy: 0.8951\n",
      "Epoch 43/300\n",
      "13/13 [==============================] - 0s 3ms/step - loss: 0.2561 - accuracy: 0.8817\n",
      "Epoch 44/300\n",
      "13/13 [==============================] - 0s 4ms/step - loss: 0.2794 - accuracy: 0.8671\n",
      "Epoch 45/300\n",
      "13/13 [==============================] - 0s 4ms/step - loss: 0.2561 - accuracy: 0.8817\n",
      "Epoch 46/300\n",
      "13/13 [==============================] - 0s 4ms/step - loss: 0.2593 - accuracy: 0.8793\n",
      "Epoch 47/300\n",
      "13/13 [==============================] - 0s 4ms/step - loss: 0.2492 - accuracy: 0.8878\n",
      "Epoch 48/300\n",
      "13/13 [==============================] - 0s 3ms/step - loss: 0.2583 - accuracy: 0.8841\n",
      "Epoch 49/300\n",
      "13/13 [==============================] - 0s 3ms/step - loss: 0.2382 - accuracy: 0.8915\n",
      "Epoch 50/300\n",
      "13/13 [==============================] - 0s 3ms/step - loss: 0.2248 - accuracy: 0.8951\n",
      "Epoch 51/300\n",
      "13/13 [==============================] - 0s 3ms/step - loss: 0.2183 - accuracy: 0.9073\n",
      "Epoch 52/300\n",
      "13/13 [==============================] - 0s 4ms/step - loss: 0.2206 - accuracy: 0.9000\n",
      "Epoch 53/300\n",
      "13/13 [==============================] - 0s 4ms/step - loss: 0.2388 - accuracy: 0.9012\n",
      "Epoch 54/300\n",
      "13/13 [==============================] - 0s 4ms/step - loss: 0.2318 - accuracy: 0.8963\n",
      "Epoch 55/300\n",
      "13/13 [==============================] - 0s 4ms/step - loss: 0.2315 - accuracy: 0.8927\n",
      "Epoch 56/300\n",
      "13/13 [==============================] - 0s 3ms/step - loss: 0.2576 - accuracy: 0.8854\n",
      "Epoch 57/300\n",
      "13/13 [==============================] - 0s 4ms/step - loss: 0.2268 - accuracy: 0.8963\n",
      "Epoch 58/300\n",
      "13/13 [==============================] - 0s 3ms/step - loss: 0.2196 - accuracy: 0.8988\n",
      "Epoch 59/300\n",
      "13/13 [==============================] - 0s 3ms/step - loss: 0.2288 - accuracy: 0.8963\n",
      "Epoch 60/300\n",
      "13/13 [==============================] - 0s 3ms/step - loss: 0.2237 - accuracy: 0.8976\n",
      "Epoch 61/300\n",
      "13/13 [==============================] - 0s 3ms/step - loss: 0.2236 - accuracy: 0.9024\n",
      "Epoch 62/300\n",
      "13/13 [==============================] - 0s 4ms/step - loss: 0.2945 - accuracy: 0.8646\n",
      "Epoch 63/300\n",
      "13/13 [==============================] - 0s 3ms/step - loss: 0.2750 - accuracy: 0.8671\n",
      "Epoch 64/300\n",
      "13/13 [==============================] - 0s 4ms/step - loss: 0.2498 - accuracy: 0.8695\n",
      "Epoch 65/300\n",
      "13/13 [==============================] - 0s 3ms/step - loss: 0.2511 - accuracy: 0.8890\n",
      "Epoch 66/300\n",
      "13/13 [==============================] - 0s 3ms/step - loss: 0.3008 - accuracy: 0.8598\n",
      "Epoch 67/300\n",
      "13/13 [==============================] - 0s 3ms/step - loss: 0.2707 - accuracy: 0.8878\n",
      "Epoch 68/300\n",
      "13/13 [==============================] - 0s 8ms/step - loss: 0.2530 - accuracy: 0.8829\n",
      "Epoch 69/300\n",
      "13/13 [==============================] - 0s 4ms/step - loss: 0.2300 - accuracy: 0.8963\n",
      "Epoch 70/300\n",
      "13/13 [==============================] - 0s 3ms/step - loss: 0.2557 - accuracy: 0.8854\n",
      "Epoch 71/300\n",
      "13/13 [==============================] - 0s 5ms/step - loss: 0.2535 - accuracy: 0.8927\n",
      "Epoch 72/300\n",
      "13/13 [==============================] - 0s 3ms/step - loss: 0.2552 - accuracy: 0.8805\n",
      "Epoch 73/300\n",
      "13/13 [==============================] - 0s 3ms/step - loss: 0.2548 - accuracy: 0.8817\n",
      "Epoch 74/300\n",
      "13/13 [==============================] - 0s 3ms/step - loss: 0.2293 - accuracy: 0.8915\n",
      "Epoch 75/300\n",
      "13/13 [==============================] - 0s 4ms/step - loss: 0.2226 - accuracy: 0.8988\n",
      "Epoch 76/300\n",
      "13/13 [==============================] - 0s 4ms/step - loss: 0.2085 - accuracy: 0.8976\n",
      "Epoch 77/300\n",
      "13/13 [==============================] - 0s 4ms/step - loss: 0.2032 - accuracy: 0.9195\n",
      "Epoch 78/300\n",
      "13/13 [==============================] - 0s 4ms/step - loss: 0.1956 - accuracy: 0.9049\n",
      "Epoch 79/300\n",
      "13/13 [==============================] - 0s 3ms/step - loss: 0.2227 - accuracy: 0.9000\n",
      "Epoch 80/300\n",
      "13/13 [==============================] - 0s 3ms/step - loss: 0.2094 - accuracy: 0.9122\n",
      "Epoch 81/300\n",
      "13/13 [==============================] - 0s 4ms/step - loss: 0.1779 - accuracy: 0.9134\n",
      "Epoch 82/300\n",
      "13/13 [==============================] - 0s 4ms/step - loss: 0.1927 - accuracy: 0.9207\n",
      "Epoch 83/300\n",
      "13/13 [==============================] - 0s 4ms/step - loss: 0.1957 - accuracy: 0.9073\n",
      "Epoch 84/300\n",
      "13/13 [==============================] - 0s 3ms/step - loss: 0.2473 - accuracy: 0.8854\n",
      "Epoch 85/300\n",
      "13/13 [==============================] - 0s 3ms/step - loss: 0.1918 - accuracy: 0.9232\n",
      "Epoch 86/300\n",
      "13/13 [==============================] - 0s 3ms/step - loss: 0.1856 - accuracy: 0.9159\n",
      "Epoch 87/300\n",
      "13/13 [==============================] - 0s 3ms/step - loss: 0.2257 - accuracy: 0.9000\n",
      "Epoch 88/300\n",
      "13/13 [==============================] - 0s 3ms/step - loss: 0.2354 - accuracy: 0.8976\n",
      "Epoch 89/300\n",
      "13/13 [==============================] - 0s 4ms/step - loss: 0.1991 - accuracy: 0.9220\n",
      "Epoch 90/300\n",
      "13/13 [==============================] - 0s 3ms/step - loss: 0.1677 - accuracy: 0.9171\n",
      "Epoch 91/300\n",
      "13/13 [==============================] - 0s 4ms/step - loss: 0.1387 - accuracy: 0.9390\n",
      "Epoch 92/300\n",
      "13/13 [==============================] - 0s 4ms/step - loss: 0.1448 - accuracy: 0.9390\n",
      "Epoch 93/300\n",
      "13/13 [==============================] - 0s 5ms/step - loss: 0.1475 - accuracy: 0.9317\n",
      "Epoch 94/300\n",
      "13/13 [==============================] - 0s 5ms/step - loss: 0.1513 - accuracy: 0.9317\n",
      "Epoch 95/300\n",
      "13/13 [==============================] - 0s 5ms/step - loss: 0.1740 - accuracy: 0.9171\n",
      "Epoch 96/300\n",
      "13/13 [==============================] - 0s 4ms/step - loss: 0.1759 - accuracy: 0.9232\n",
      "Epoch 97/300\n",
      "13/13 [==============================] - 0s 4ms/step - loss: 0.1445 - accuracy: 0.9329\n",
      "Epoch 98/300\n",
      "13/13 [==============================] - 0s 4ms/step - loss: 0.1509 - accuracy: 0.9305\n",
      "Epoch 99/300\n",
      "13/13 [==============================] - 0s 4ms/step - loss: 0.1375 - accuracy: 0.9341\n",
      "Epoch 100/300\n",
      "13/13 [==============================] - 0s 4ms/step - loss: 0.1277 - accuracy: 0.9439\n",
      "Epoch 101/300\n",
      "13/13 [==============================] - 0s 4ms/step - loss: 0.1727 - accuracy: 0.9183\n",
      "Epoch 102/300\n",
      "13/13 [==============================] - 0s 6ms/step - loss: 0.1615 - accuracy: 0.9305\n",
      "Epoch 103/300\n",
      "13/13 [==============================] - 0s 4ms/step - loss: 0.1312 - accuracy: 0.9329\n",
      "Epoch 104/300\n",
      "13/13 [==============================] - 0s 4ms/step - loss: 0.1386 - accuracy: 0.9366\n",
      "Epoch 105/300\n",
      "13/13 [==============================] - 0s 3ms/step - loss: 0.1371 - accuracy: 0.9415\n",
      "Epoch 106/300\n",
      "13/13 [==============================] - 0s 3ms/step - loss: 0.1056 - accuracy: 0.9537\n",
      "Epoch 107/300\n",
      "13/13 [==============================] - 0s 3ms/step - loss: 0.1077 - accuracy: 0.9488\n",
      "Epoch 108/300\n",
      "13/13 [==============================] - 0s 3ms/step - loss: 0.1837 - accuracy: 0.9183\n",
      "Epoch 109/300\n",
      "13/13 [==============================] - 0s 3ms/step - loss: 0.3314 - accuracy: 0.8512\n",
      "Epoch 110/300\n",
      "13/13 [==============================] - 0s 3ms/step - loss: 0.2434 - accuracy: 0.8854\n",
      "Epoch 111/300\n",
      "13/13 [==============================] - 0s 3ms/step - loss: 0.1669 - accuracy: 0.9280\n",
      "Epoch 112/300\n",
      "13/13 [==============================] - 0s 3ms/step - loss: 0.1578 - accuracy: 0.9317\n",
      "Epoch 113/300\n",
      "13/13 [==============================] - 0s 3ms/step - loss: 0.1356 - accuracy: 0.9402\n",
      "Epoch 114/300\n",
      "13/13 [==============================] - 0s 3ms/step - loss: 0.1459 - accuracy: 0.9329\n",
      "Epoch 115/300\n",
      "13/13 [==============================] - 0s 3ms/step - loss: 0.1647 - accuracy: 0.9159\n",
      "Epoch 116/300\n",
      "13/13 [==============================] - 0s 3ms/step - loss: 0.1370 - accuracy: 0.9390\n",
      "Epoch 117/300\n",
      "13/13 [==============================] - 0s 3ms/step - loss: 0.1414 - accuracy: 0.9415\n",
      "Epoch 118/300\n",
      "13/13 [==============================] - 0s 3ms/step - loss: 0.1235 - accuracy: 0.9366\n",
      "Epoch 119/300\n",
      "13/13 [==============================] - 0s 4ms/step - loss: 0.1323 - accuracy: 0.9415\n",
      "Epoch 120/300\n",
      "13/13 [==============================] - 0s 3ms/step - loss: 0.1201 - accuracy: 0.9524\n",
      "Epoch 121/300\n",
      "13/13 [==============================] - 0s 3ms/step - loss: 0.1398 - accuracy: 0.9427\n",
      "Epoch 122/300\n",
      "13/13 [==============================] - 0s 3ms/step - loss: 0.1264 - accuracy: 0.9402\n",
      "Epoch 123/300\n",
      "13/13 [==============================] - 0s 3ms/step - loss: 0.1194 - accuracy: 0.9463\n",
      "Epoch 124/300\n",
      "13/13 [==============================] - 0s 3ms/step - loss: 0.1263 - accuracy: 0.9451\n",
      "Epoch 125/300\n",
      "13/13 [==============================] - 0s 3ms/step - loss: 0.1256 - accuracy: 0.9439\n",
      "Epoch 126/300\n",
      "13/13 [==============================] - 0s 3ms/step - loss: 0.1002 - accuracy: 0.9573\n",
      "Epoch 127/300\n",
      "13/13 [==============================] - 0s 3ms/step - loss: 0.0853 - accuracy: 0.9659\n",
      "Epoch 128/300\n",
      "13/13 [==============================] - 0s 4ms/step - loss: 0.0646 - accuracy: 0.9744\n",
      "Epoch 129/300\n",
      "13/13 [==============================] - 0s 3ms/step - loss: 0.0739 - accuracy: 0.9646\n",
      "Epoch 130/300\n",
      "13/13 [==============================] - 0s 3ms/step - loss: 0.0764 - accuracy: 0.9695\n",
      "Epoch 131/300\n",
      "13/13 [==============================] - 0s 4ms/step - loss: 0.0660 - accuracy: 0.9793\n",
      "Epoch 132/300\n",
      "13/13 [==============================] - 0s 3ms/step - loss: 0.0702 - accuracy: 0.9683\n",
      "Epoch 133/300\n",
      "13/13 [==============================] - 0s 3ms/step - loss: 0.1051 - accuracy: 0.9512\n",
      "Epoch 134/300\n",
      "13/13 [==============================] - 0s 3ms/step - loss: 0.4313 - accuracy: 0.8732\n",
      "Epoch 135/300\n",
      "13/13 [==============================] - 0s 3ms/step - loss: 0.3775 - accuracy: 0.8524\n",
      "Epoch 136/300\n",
      "13/13 [==============================] - 0s 3ms/step - loss: 0.4412 - accuracy: 0.7988\n",
      "Epoch 137/300\n",
      "13/13 [==============================] - 0s 3ms/step - loss: 0.2464 - accuracy: 0.8963\n",
      "Epoch 138/300\n",
      "13/13 [==============================] - 0s 4ms/step - loss: 0.2144 - accuracy: 0.9146\n",
      "Epoch 139/300\n",
      "13/13 [==============================] - 0s 3ms/step - loss: 0.1984 - accuracy: 0.9134\n",
      "Epoch 140/300\n",
      "13/13 [==============================] - 0s 3ms/step - loss: 0.1872 - accuracy: 0.9122\n",
      "Epoch 141/300\n",
      "13/13 [==============================] - 0s 3ms/step - loss: 0.1769 - accuracy: 0.9159\n",
      "Epoch 142/300\n",
      "13/13 [==============================] - 0s 3ms/step - loss: 0.1537 - accuracy: 0.9415\n",
      "Epoch 143/300\n",
      "13/13 [==============================] - 0s 3ms/step - loss: 0.1459 - accuracy: 0.9427\n",
      "Epoch 144/300\n",
      "13/13 [==============================] - 0s 3ms/step - loss: 0.1204 - accuracy: 0.9537\n",
      "Epoch 145/300\n",
      "13/13 [==============================] - 0s 4ms/step - loss: 0.1740 - accuracy: 0.9159\n",
      "Epoch 146/300\n",
      "13/13 [==============================] - 0s 3ms/step - loss: 0.1256 - accuracy: 0.9476\n",
      "Epoch 147/300\n",
      "13/13 [==============================] - 0s 4ms/step - loss: 0.0982 - accuracy: 0.9573\n",
      "Epoch 148/300\n",
      "13/13 [==============================] - 0s 3ms/step - loss: 0.1056 - accuracy: 0.9610\n",
      "Epoch 149/300\n",
      "13/13 [==============================] - 0s 3ms/step - loss: 0.0950 - accuracy: 0.9622\n",
      "Epoch 150/300\n",
      "13/13 [==============================] - 0s 3ms/step - loss: 0.0756 - accuracy: 0.9732\n",
      "Epoch 151/300\n",
      "13/13 [==============================] - 0s 3ms/step - loss: 0.0621 - accuracy: 0.9841\n",
      "Epoch 152/300\n",
      "13/13 [==============================] - 0s 3ms/step - loss: 0.0765 - accuracy: 0.9720\n",
      "Epoch 153/300\n",
      "13/13 [==============================] - 0s 3ms/step - loss: 0.1084 - accuracy: 0.9622\n",
      "Epoch 154/300\n",
      "13/13 [==============================] - 0s 4ms/step - loss: 0.0905 - accuracy: 0.9671\n",
      "Epoch 155/300\n",
      "13/13 [==============================] - 0s 5ms/step - loss: 0.1649 - accuracy: 0.9280\n",
      "Epoch 156/300\n",
      "13/13 [==============================] - 0s 4ms/step - loss: 0.1745 - accuracy: 0.9207\n",
      "Epoch 157/300\n",
      "13/13 [==============================] - 0s 4ms/step - loss: 0.1437 - accuracy: 0.9317\n",
      "Epoch 158/300\n",
      "13/13 [==============================] - 0s 4ms/step - loss: 0.1321 - accuracy: 0.9415\n",
      "Epoch 159/300\n",
      "13/13 [==============================] - 0s 4ms/step - loss: 0.0972 - accuracy: 0.9646\n",
      "Epoch 160/300\n",
      "13/13 [==============================] - 0s 4ms/step - loss: 0.0802 - accuracy: 0.9707\n",
      "Epoch 161/300\n",
      "13/13 [==============================] - 0s 5ms/step - loss: 0.0488 - accuracy: 0.9817\n",
      "Epoch 162/300\n",
      "13/13 [==============================] - 0s 5ms/step - loss: 0.0610 - accuracy: 0.9817\n",
      "Epoch 163/300\n",
      "13/13 [==============================] - 0s 4ms/step - loss: 0.1097 - accuracy: 0.9549\n",
      "Epoch 164/300\n",
      "13/13 [==============================] - 0s 5ms/step - loss: 0.1217 - accuracy: 0.9427\n",
      "Epoch 165/300\n",
      "13/13 [==============================] - 0s 4ms/step - loss: 0.0755 - accuracy: 0.9768\n",
      "Epoch 166/300\n",
      "13/13 [==============================] - 0s 5ms/step - loss: 0.0734 - accuracy: 0.9695\n",
      "Epoch 167/300\n",
      "13/13 [==============================] - 0s 4ms/step - loss: 0.0493 - accuracy: 0.9841\n",
      "Epoch 168/300\n",
      "13/13 [==============================] - 0s 5ms/step - loss: 0.0346 - accuracy: 0.9902\n",
      "Epoch 169/300\n",
      "13/13 [==============================] - 0s 4ms/step - loss: 0.0280 - accuracy: 0.9939\n",
      "Epoch 170/300\n",
      "13/13 [==============================] - 0s 5ms/step - loss: 0.0268 - accuracy: 0.9951\n",
      "Epoch 171/300\n",
      "13/13 [==============================] - 0s 6ms/step - loss: 0.0545 - accuracy: 0.9756\n",
      "Epoch 172/300\n",
      "13/13 [==============================] - 0s 5ms/step - loss: 0.0421 - accuracy: 0.9829\n",
      "Epoch 173/300\n",
      "13/13 [==============================] - 0s 4ms/step - loss: 0.0349 - accuracy: 0.9902\n",
      "Epoch 174/300\n",
      "13/13 [==============================] - 0s 5ms/step - loss: 0.0240 - accuracy: 0.9939\n",
      "Epoch 175/300\n",
      "13/13 [==============================] - 0s 4ms/step - loss: 0.0190 - accuracy: 0.9963\n",
      "Epoch 176/300\n",
      "13/13 [==============================] - 0s 5ms/step - loss: 0.0204 - accuracy: 0.9939\n",
      "Epoch 177/300\n",
      "13/13 [==============================] - 0s 4ms/step - loss: 0.0613 - accuracy: 0.9756\n",
      "Epoch 178/300\n",
      "13/13 [==============================] - 0s 4ms/step - loss: 0.1563 - accuracy: 0.9402\n",
      "Epoch 179/300\n",
      "13/13 [==============================] - 0s 5ms/step - loss: 0.2476 - accuracy: 0.8939\n",
      "Epoch 180/300\n",
      "13/13 [==============================] - 0s 6ms/step - loss: 0.2534 - accuracy: 0.8915\n",
      "Epoch 181/300\n",
      "13/13 [==============================] - 0s 5ms/step - loss: 0.2437 - accuracy: 0.8988\n",
      "Epoch 182/300\n",
      "13/13 [==============================] - 0s 5ms/step - loss: 0.1477 - accuracy: 0.9415\n",
      "Epoch 183/300\n",
      "13/13 [==============================] - 0s 4ms/step - loss: 0.1145 - accuracy: 0.9537\n",
      "Epoch 184/300\n",
      "13/13 [==============================] - 0s 4ms/step - loss: 0.1249 - accuracy: 0.9415\n",
      "Epoch 185/300\n",
      "13/13 [==============================] - 0s 4ms/step - loss: 0.0876 - accuracy: 0.9683\n",
      "Epoch 186/300\n",
      "13/13 [==============================] - 0s 5ms/step - loss: 0.0617 - accuracy: 0.9817\n",
      "Epoch 187/300\n",
      "13/13 [==============================] - 0s 5ms/step - loss: 0.0418 - accuracy: 0.9915\n",
      "Epoch 188/300\n",
      "13/13 [==============================] - 0s 5ms/step - loss: 0.0388 - accuracy: 0.9854\n",
      "Epoch 189/300\n",
      "13/13 [==============================] - 0s 5ms/step - loss: 0.0236 - accuracy: 0.9988\n",
      "Epoch 190/300\n",
      "13/13 [==============================] - 0s 4ms/step - loss: 0.0283 - accuracy: 0.9951\n",
      "Epoch 191/300\n",
      "13/13 [==============================] - 0s 5ms/step - loss: 0.0198 - accuracy: 0.9963\n",
      "Epoch 192/300\n",
      "13/13 [==============================] - 0s 4ms/step - loss: 0.0196 - accuracy: 0.9951\n",
      "Epoch 193/300\n",
      "13/13 [==============================] - 0s 6ms/step - loss: 0.0117 - accuracy: 0.9988\n",
      "Epoch 194/300\n",
      "13/13 [==============================] - 0s 7ms/step - loss: 0.0138 - accuracy: 0.9976\n",
      "Epoch 195/300\n",
      "13/13 [==============================] - 0s 6ms/step - loss: 0.0454 - accuracy: 0.9805\n",
      "Epoch 196/300\n",
      "13/13 [==============================] - 0s 6ms/step - loss: 0.0264 - accuracy: 0.9902\n",
      "Epoch 197/300\n",
      "13/13 [==============================] - 0s 5ms/step - loss: 0.1102 - accuracy: 0.9585\n",
      "Epoch 198/300\n",
      "13/13 [==============================] - 0s 5ms/step - loss: 0.1065 - accuracy: 0.9573\n",
      "Epoch 199/300\n",
      "13/13 [==============================] - 0s 5ms/step - loss: 0.1705 - accuracy: 0.9390\n",
      "Epoch 200/300\n",
      "13/13 [==============================] - 0s 5ms/step - loss: 0.1768 - accuracy: 0.9280\n",
      "Epoch 201/300\n",
      "13/13 [==============================] - 0s 5ms/step - loss: 0.1303 - accuracy: 0.9512\n",
      "Epoch 202/300\n",
      "13/13 [==============================] - 0s 5ms/step - loss: 0.1070 - accuracy: 0.9549\n",
      "Epoch 203/300\n",
      "13/13 [==============================] - 0s 5ms/step - loss: 0.0464 - accuracy: 0.9890\n",
      "Epoch 204/300\n",
      "13/13 [==============================] - 0s 5ms/step - loss: 0.0272 - accuracy: 0.9963\n",
      "Epoch 205/300\n",
      "13/13 [==============================] - 0s 5ms/step - loss: 0.0299 - accuracy: 0.9915\n",
      "Epoch 206/300\n",
      "13/13 [==============================] - 0s 5ms/step - loss: 0.0220 - accuracy: 0.9951\n",
      "Epoch 207/300\n",
      "13/13 [==============================] - 0s 5ms/step - loss: 0.0135 - accuracy: 1.0000\n",
      "Epoch 208/300\n",
      "13/13 [==============================] - 0s 5ms/step - loss: 0.0148 - accuracy: 0.9976\n",
      "Epoch 209/300\n",
      "13/13 [==============================] - 0s 5ms/step - loss: 0.0132 - accuracy: 0.9988\n",
      "Epoch 210/300\n",
      "13/13 [==============================] - 0s 5ms/step - loss: 0.0093 - accuracy: 0.9988\n",
      "Epoch 211/300\n",
      "13/13 [==============================] - 0s 5ms/step - loss: 0.0055 - accuracy: 1.0000\n",
      "Epoch 212/300\n",
      "13/13 [==============================] - 0s 8ms/step - loss: 0.0042 - accuracy: 1.0000\n",
      "Epoch 213/300\n",
      "13/13 [==============================] - 0s 5ms/step - loss: 0.0035 - accuracy: 1.0000\n",
      "Epoch 214/300\n",
      "13/13 [==============================] - 0s 5ms/step - loss: 0.0027 - accuracy: 1.0000\n",
      "Epoch 215/300\n",
      "13/13 [==============================] - 0s 7ms/step - loss: 0.0024 - accuracy: 1.0000\n",
      "Epoch 216/300\n",
      "13/13 [==============================] - 0s 5ms/step - loss: 0.0022 - accuracy: 1.0000\n",
      "Epoch 217/300\n",
      "13/13 [==============================] - 0s 5ms/step - loss: 0.0019 - accuracy: 1.0000\n",
      "Epoch 218/300\n",
      "13/13 [==============================] - 0s 4ms/step - loss: 0.0019 - accuracy: 1.0000\n",
      "Epoch 219/300\n",
      "13/13 [==============================] - 0s 4ms/step - loss: 0.0018 - accuracy: 1.0000\n",
      "Epoch 220/300\n",
      "13/13 [==============================] - 0s 5ms/step - loss: 0.0013 - accuracy: 1.0000\n",
      "Epoch 221/300\n",
      "13/13 [==============================] - 0s 5ms/step - loss: 0.0011 - accuracy: 1.0000\n",
      "Epoch 222/300\n",
      "13/13 [==============================] - 0s 5ms/step - loss: 0.0011 - accuracy: 1.0000\n",
      "Epoch 223/300\n",
      "13/13 [==============================] - 0s 5ms/step - loss: 9.2904e-04 - accuracy: 1.0000\n",
      "Epoch 224/300\n",
      "13/13 [==============================] - 0s 6ms/step - loss: 8.7668e-04 - accuracy: 1.0000\n",
      "Epoch 225/300\n",
      "13/13 [==============================] - 0s 5ms/step - loss: 8.4229e-04 - accuracy: 1.0000\n",
      "Epoch 226/300\n",
      "13/13 [==============================] - 0s 6ms/step - loss: 7.9387e-04 - accuracy: 1.0000\n",
      "Epoch 227/300\n",
      "13/13 [==============================] - 0s 5ms/step - loss: 7.1570e-04 - accuracy: 1.0000\n",
      "Epoch 228/300\n",
      "13/13 [==============================] - 0s 6ms/step - loss: 6.5928e-04 - accuracy: 1.0000\n",
      "Epoch 229/300\n",
      "13/13 [==============================] - 0s 5ms/step - loss: 6.0629e-04 - accuracy: 1.0000\n",
      "Epoch 230/300\n",
      "13/13 [==============================] - 0s 5ms/step - loss: 5.6845e-04 - accuracy: 1.0000\n",
      "Epoch 231/300\n",
      "13/13 [==============================] - 0s 5ms/step - loss: 4.6692e-04 - accuracy: 1.0000\n",
      "Epoch 232/300\n",
      "13/13 [==============================] - 0s 5ms/step - loss: 4.1918e-04 - accuracy: 1.0000\n",
      "Epoch 233/300\n",
      "13/13 [==============================] - 0s 5ms/step - loss: 3.8318e-04 - accuracy: 1.0000\n",
      "Epoch 234/300\n",
      "13/13 [==============================] - 0s 5ms/step - loss: 3.1308e-04 - accuracy: 1.0000\n",
      "Epoch 235/300\n",
      "13/13 [==============================] - 0s 5ms/step - loss: 2.6494e-04 - accuracy: 1.0000\n",
      "Epoch 236/300\n",
      "13/13 [==============================] - 0s 5ms/step - loss: 2.2899e-04 - accuracy: 1.0000\n",
      "Epoch 237/300\n",
      "13/13 [==============================] - 0s 4ms/step - loss: 2.1138e-04 - accuracy: 1.0000\n",
      "Epoch 238/300\n",
      "13/13 [==============================] - 0s 5ms/step - loss: 1.9012e-04 - accuracy: 1.0000\n",
      "Epoch 239/300\n",
      "13/13 [==============================] - 0s 5ms/step - loss: 1.6960e-04 - accuracy: 1.0000\n",
      "Epoch 240/300\n",
      "13/13 [==============================] - 0s 4ms/step - loss: 1.5179e-04 - accuracy: 1.0000\n",
      "Epoch 241/300\n",
      "13/13 [==============================] - 0s 4ms/step - loss: 1.4208e-04 - accuracy: 1.0000\n",
      "Epoch 242/300\n",
      "13/13 [==============================] - 0s 5ms/step - loss: 1.3032e-04 - accuracy: 1.0000\n",
      "Epoch 243/300\n",
      "13/13 [==============================] - 0s 5ms/step - loss: 1.1886e-04 - accuracy: 1.0000\n",
      "Epoch 244/300\n",
      "13/13 [==============================] - 0s 5ms/step - loss: 1.1112e-04 - accuracy: 1.0000\n",
      "Epoch 245/300\n",
      "13/13 [==============================] - 0s 5ms/step - loss: 1.0171e-04 - accuracy: 1.0000\n",
      "Epoch 246/300\n",
      "13/13 [==============================] - 0s 5ms/step - loss: 9.5535e-05 - accuracy: 1.0000\n",
      "Epoch 247/300\n",
      "13/13 [==============================] - 0s 4ms/step - loss: 8.7448e-05 - accuracy: 1.0000\n",
      "Epoch 248/300\n",
      "13/13 [==============================] - 0s 5ms/step - loss: 8.1266e-05 - accuracy: 1.0000\n",
      "Epoch 249/300\n",
      "13/13 [==============================] - 0s 5ms/step - loss: 7.6017e-05 - accuracy: 1.0000\n",
      "Epoch 250/300\n",
      "13/13 [==============================] - 0s 5ms/step - loss: 7.2737e-05 - accuracy: 1.0000\n",
      "Epoch 251/300\n",
      "13/13 [==============================] - 0s 10ms/step - loss: 6.7410e-05 - accuracy: 1.0000\n",
      "Epoch 252/300\n",
      "13/13 [==============================] - 0s 7ms/step - loss: 6.3744e-05 - accuracy: 1.0000\n",
      "Epoch 253/300\n",
      "13/13 [==============================] - 0s 6ms/step - loss: 6.0905e-05 - accuracy: 1.0000\n",
      "Epoch 254/300\n",
      "13/13 [==============================] - 0s 5ms/step - loss: 5.7002e-05 - accuracy: 1.0000\n",
      "Epoch 255/300\n",
      "13/13 [==============================] - 0s 6ms/step - loss: 5.5419e-05 - accuracy: 1.0000\n",
      "Epoch 256/300\n",
      "13/13 [==============================] - 0s 5ms/step - loss: 5.3133e-05 - accuracy: 1.0000\n",
      "Epoch 257/300\n",
      "13/13 [==============================] - 0s 6ms/step - loss: 5.0117e-05 - accuracy: 1.0000\n",
      "Epoch 258/300\n",
      "13/13 [==============================] - 0s 5ms/step - loss: 4.8217e-05 - accuracy: 1.0000\n",
      "Epoch 259/300\n",
      "13/13 [==============================] - 0s 6ms/step - loss: 4.8563e-05 - accuracy: 1.0000\n",
      "Epoch 260/300\n",
      "13/13 [==============================] - 0s 6ms/step - loss: 4.3361e-05 - accuracy: 1.0000\n",
      "Epoch 261/300\n",
      "13/13 [==============================] - 0s 6ms/step - loss: 4.1877e-05 - accuracy: 1.0000\n",
      "Epoch 262/300\n",
      "13/13 [==============================] - 0s 5ms/step - loss: 4.0651e-05 - accuracy: 1.0000\n",
      "Epoch 263/300\n",
      "13/13 [==============================] - 0s 6ms/step - loss: 3.8477e-05 - accuracy: 1.0000\n",
      "Epoch 264/300\n",
      "13/13 [==============================] - 0s 5ms/step - loss: 3.6859e-05 - accuracy: 1.0000\n",
      "Epoch 265/300\n",
      "13/13 [==============================] - 0s 5ms/step - loss: 3.5600e-05 - accuracy: 1.0000\n",
      "Epoch 266/300\n",
      "13/13 [==============================] - 0s 5ms/step - loss: 3.4548e-05 - accuracy: 1.0000\n",
      "Epoch 267/300\n",
      "13/13 [==============================] - 0s 5ms/step - loss: 3.4137e-05 - accuracy: 1.0000\n",
      "Epoch 268/300\n",
      "13/13 [==============================] - 0s 5ms/step - loss: 3.1892e-05 - accuracy: 1.0000\n",
      "Epoch 269/300\n",
      "13/13 [==============================] - 0s 5ms/step - loss: 3.1315e-05 - accuracy: 1.0000\n",
      "Epoch 270/300\n",
      "13/13 [==============================] - 0s 5ms/step - loss: 3.0449e-05 - accuracy: 1.0000\n",
      "Epoch 271/300\n",
      "13/13 [==============================] - 0s 5ms/step - loss: 2.9240e-05 - accuracy: 1.0000\n",
      "Epoch 272/300\n",
      "13/13 [==============================] - 0s 6ms/step - loss: 2.8005e-05 - accuracy: 1.0000\n",
      "Epoch 273/300\n",
      "13/13 [==============================] - 0s 6ms/step - loss: 2.7042e-05 - accuracy: 1.0000\n",
      "Epoch 274/300\n",
      "13/13 [==============================] - 0s 6ms/step - loss: 2.6327e-05 - accuracy: 1.0000\n",
      "Epoch 275/300\n",
      "13/13 [==============================] - 0s 5ms/step - loss: 2.5400e-05 - accuracy: 1.0000\n",
      "Epoch 276/300\n",
      "13/13 [==============================] - 0s 5ms/step - loss: 2.4821e-05 - accuracy: 1.0000\n",
      "Epoch 277/300\n",
      "13/13 [==============================] - 0s 5ms/step - loss: 2.4102e-05 - accuracy: 1.0000\n",
      "Epoch 278/300\n",
      "13/13 [==============================] - 0s 5ms/step - loss: 2.3578e-05 - accuracy: 1.0000\n",
      "Epoch 279/300\n",
      "13/13 [==============================] - 0s 5ms/step - loss: 2.2574e-05 - accuracy: 1.0000\n",
      "Epoch 280/300\n",
      "13/13 [==============================] - 0s 6ms/step - loss: 2.1817e-05 - accuracy: 1.0000\n",
      "Epoch 281/300\n",
      "13/13 [==============================] - 0s 5ms/step - loss: 2.1319e-05 - accuracy: 1.0000\n",
      "Epoch 282/300\n",
      "13/13 [==============================] - 0s 5ms/step - loss: 2.0761e-05 - accuracy: 1.0000\n",
      "Epoch 283/300\n",
      "13/13 [==============================] - 0s 5ms/step - loss: 1.9964e-05 - accuracy: 1.0000\n",
      "Epoch 284/300\n",
      "13/13 [==============================] - 0s 5ms/step - loss: 1.9305e-05 - accuracy: 1.0000\n",
      "Epoch 285/300\n",
      "13/13 [==============================] - 0s 5ms/step - loss: 1.8794e-05 - accuracy: 1.0000\n",
      "Epoch 286/300\n",
      "13/13 [==============================] - 0s 5ms/step - loss: 1.8150e-05 - accuracy: 1.0000\n",
      "Epoch 287/300\n",
      "13/13 [==============================] - 0s 5ms/step - loss: 1.7553e-05 - accuracy: 1.0000\n",
      "Epoch 288/300\n",
      "13/13 [==============================] - 0s 5ms/step - loss: 1.7235e-05 - accuracy: 1.0000\n",
      "Epoch 289/300\n",
      "13/13 [==============================] - 0s 5ms/step - loss: 1.6679e-05 - accuracy: 1.0000\n",
      "Epoch 290/300\n",
      "13/13 [==============================] - 0s 5ms/step - loss: 1.6205e-05 - accuracy: 1.0000\n",
      "Epoch 291/300\n",
      "13/13 [==============================] - 0s 6ms/step - loss: 1.6020e-05 - accuracy: 1.0000\n",
      "Epoch 292/300\n",
      "13/13 [==============================] - 0s 5ms/step - loss: 1.5304e-05 - accuracy: 1.0000\n",
      "Epoch 293/300\n",
      "13/13 [==============================] - 0s 5ms/step - loss: 1.4901e-05 - accuracy: 1.0000\n",
      "Epoch 294/300\n",
      "13/13 [==============================] - 0s 5ms/step - loss: 1.4448e-05 - accuracy: 1.0000\n",
      "Epoch 295/300\n",
      "13/13 [==============================] - 0s 5ms/step - loss: 1.4248e-05 - accuracy: 1.0000\n",
      "Epoch 296/300\n",
      "13/13 [==============================] - 0s 5ms/step - loss: 1.3783e-05 - accuracy: 1.0000\n",
      "Epoch 297/300\n",
      "13/13 [==============================] - 0s 5ms/step - loss: 1.3511e-05 - accuracy: 1.0000\n",
      "Epoch 298/300\n",
      "13/13 [==============================] - 0s 5ms/step - loss: 1.3188e-05 - accuracy: 1.0000\n",
      "Epoch 299/300\n",
      "13/13 [==============================] - 0s 6ms/step - loss: 1.2822e-05 - accuracy: 1.0000\n",
      "Epoch 300/300\n",
      "13/13 [==============================] - 0s 5ms/step - loss: 1.2549e-05 - accuracy: 1.0000\n"
     ]
    }
   ],
   "source": [
    "history = model.fit(X_train, y_train, epochs=300, batch_size=64)\n",
    "#history = model.fit(X_train,y_train,validation_data=(X_test,y_test),epochs=300)"
   ]
  },
  {
   "cell_type": "markdown",
   "metadata": {
    "id": "isbAqIDKTG_S"
   },
   "source": [
    "## Plot acc and loss"
   ]
  },
  {
   "cell_type": "code",
   "execution_count": 26,
   "metadata": {
    "colab": {
     "base_uri": "https://localhost:8080/",
     "height": 295
    },
    "id": "EwcGLoXJTEru",
    "outputId": "db3b71c4-c3cc-4aad-9870-f82c5c4e1480"
   },
   "outputs": [
    {
     "data": {
      "image/png": "[encoded data removed]",
      "text/plain": [
       "<Figure size 640x480 with 1 Axes>"
      ]
     },
     "metadata": {},
     "output_type": "display_data"
    }
   ],
   "source": [
    "#Visualize the models accuracy and loss\n",
    "import matplotlib.pyplot as plt\n",
    "\n",
    "plt.plot(history.history[\"accuracy\"])\n",
    "plt.plot(history.history[\"loss\"])\n",
    "plt.title(\"model accuracy & loss\")\n",
    "plt.ylabel(\"accuracy and loss\")\n",
    "plt.xlabel(\"epoch\")\n",
    "plt.legend(['acc', 'loss'], loc='lower right')\n",
    "plt.show()"
   ]
  },
  {
   "cell_type": "markdown",
   "metadata": {
    "id": "1j0IJd1SSsVp"
   },
   "source": [
    "# Calculate prediction"
   ]
  },
  {
   "cell_type": "code",
   "execution_count": 27,
   "metadata": {
    "id": "_mhV_DzwyGyc"
   },
   "outputs": [
    {
     "name": "stdout",
     "output_type": "stream",
     "text": [
      "7/7 [==============================] - 0s 4ms/step\n"
     ]
    }
   ],
   "source": [
    "y_pred = model.predict(X_test)"
   ]
  },
  {
   "cell_type": "code",
   "execution_count": 28,
   "metadata": {
    "colab": {
     "base_uri": "https://localhost:8080/"
    },
    "id": "E_22PQ18byTs",
    "outputId": "a77f355b-3039-4ba3-8be5-1d2ea624fd71"
   },
   "outputs": [
    {
     "name": "stdout",
     "output_type": "stream",
     "text": [
      "7/7 [==============================] - 0s 3ms/step - loss: 0.3230 - accuracy: 0.9805\n"
     ]
    },
    {
     "data": {
      "text/plain": [
       "[0.3229868412017822, 0.9804878234863281]"
      ]
     },
     "execution_count": 28,
     "metadata": {},
     "output_type": "execute_result"
    }
   ],
   "source": [
    "model.evaluate(X_test, y_test)"
   ]
  },
  {
   "cell_type": "code",
   "execution_count": 29,
   "metadata": {
    "colab": {
     "base_uri": "https://localhost:8080/"
    },
    "id": "iNjfPPQNyYfl",
    "outputId": "b2ce3f4b-d2d6-4e48-c0b3-a2483612d263"
   },
   "outputs": [
    {
     "name": "stdout",
     "output_type": "stream",
     "text": [
      "Accuracy on test data: 0.9804878234863281% \n",
      " Error on test data: 0.019512176513671875\n"
     ]
    }
   ],
   "source": [
    "#pred_test= model.predict(X_test)\n",
    "score = model.evaluate(X_test, y_test, verbose=0)\n",
    "print('Accuracy on test data: {}% \\n Error on test data: {}'.format(score[1], 1 - score[1]))  "
   ]
  },
  {
   "cell_type": "markdown",
   "metadata": {
    "id": "d2E4H132UFIY"
   },
   "source": [
    "# Confusion matrix\n",
    "\n",
    "*   Converting predictions to label\n",
    "\n",
    "\n",
    "\n"
   ]
  },
  {
   "cell_type": "code",
   "execution_count": 30,
   "metadata": {
    "id": "QDjbaE_EYC41"
   },
   "outputs": [],
   "source": [
    "pred = list()\n",
    "for i in range(len(y_pred)):\n",
    "    pred.append(np.argmax(y_pred[i]))\n",
    "#Converting one hot encoded test label to label\n",
    "test = list()\n",
    "for i in range(len(y_test)):\n",
    "    test.append(np.argmax(y_test[i]))"
   ]
  },
  {
   "cell_type": "code",
   "execution_count": 31,
   "metadata": {
    "colab": {
     "base_uri": "https://localhost:8080/"
    },
    "id": "kyXprjVZq5Et",
    "outputId": "79a2a131-428f-4164-a903-480009c8c98b"
   },
   "outputs": [
    {
     "name": "stdout",
     "output_type": "stream",
     "text": [
      "[[105   0]\n",
      " [  4  96]]\n"
     ]
    }
   ],
   "source": [
    "print(confusion_matrix(pred,test))"
   ]
  },
  {
   "cell_type": "code",
   "execution_count": 32,
   "metadata": {
    "colab": {
     "base_uri": "https://localhost:8080/"
    },
    "id": "oPQPc6GVrHQA",
    "outputId": "22c90fe5-76d7-42ac-b85b-14b36504a1ea"
   },
   "outputs": [
    {
     "name": "stdout",
     "output_type": "stream",
     "text": [
      "Report of test data:\n",
      "              precision    recall  f1-score   support\n",
      "\n",
      "           0       1.00      0.96      0.98       109\n",
      "           1       0.96      1.00      0.98        96\n",
      "\n",
      "    accuracy                           0.98       205\n",
      "   macro avg       0.98      0.98      0.98       205\n",
      "weighted avg       0.98      0.98      0.98       205\n",
      "\n"
     ]
    }
   ],
   "source": [
    "rep = classification_report(test, pred) \n",
    "print (\"Report of test data:\")\n",
    "print(rep)"
   ]
  },
  {
   "cell_type": "code",
   "execution_count": null,
   "metadata": {},
   "outputs": [],
   "source": []
  }
 ],
 "metadata": {
  "colab": {
   "provenance": []
  },
  "kernelspec": {
   "display_name": "Python 3 (ipykernel)",
   "language": "python",
   "name": "python3"
  },
  "language_info": {
   "codemirror_mode": {
    "name": "ipython",
    "version": 3
   },
   "file_extension": ".py",
   "mimetype": "text/x-python",
   "name": "python",
   "nbconvert_exporter": "python",
   "pygments_lexer": "ipython3",
   "version": "3.9.16"
  }
 },
 "nbformat": 4,
 "nbformat_minor": 1
}
